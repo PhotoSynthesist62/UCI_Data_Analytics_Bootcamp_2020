{
 "cells": [
  {
   "cell_type": "markdown",
   "metadata": {},
   "source": [
    "## VacationPy"
   ]
  },
  {
   "cell_type": "code",
   "execution_count": 1,
   "metadata": {},
   "outputs": [],
   "source": [
    "# Dependencies and Setup\n",
    "import matplotlib.pyplot as plt\n",
    "%matplotlib inline\n",
    "import warnings\n",
    "warnings.simplefilter('ignore')\n",
    "import pandas as pd\n",
    "import numpy as np\n",
    "import requests\n",
    "import gmaps\n",
    "import os\n",
    "\n",
    "# Import API key\n",
    "from config import g_key"
   ]
  },
  {
   "cell_type": "markdown",
   "metadata": {},
   "source": [
    "### Import .csv from WeatherPy (Part 1) into a DataFrame"
   ]
  },
  {
   "cell_type": "code",
   "execution_count": 2,
   "metadata": {},
   "outputs": [
    {
     "data": {
      "text/html": [
       "<div>\n",
       "<style scoped>\n",
       "    .dataframe tbody tr th:only-of-type {\n",
       "        vertical-align: middle;\n",
       "    }\n",
       "\n",
       "    .dataframe tbody tr th {\n",
       "        vertical-align: top;\n",
       "    }\n",
       "\n",
       "    .dataframe thead th {\n",
       "        text-align: right;\n",
       "    }\n",
       "</style>\n",
       "<table border=\"1\" class=\"dataframe\">\n",
       "  <thead>\n",
       "    <tr style=\"text-align: right;\">\n",
       "      <th></th>\n",
       "      <th>City</th>\n",
       "      <th>Latitude</th>\n",
       "      <th>Longitude</th>\n",
       "      <th>Max Temp</th>\n",
       "      <th>Humidity</th>\n",
       "      <th>Cloudiness</th>\n",
       "      <th>Wind Speed</th>\n",
       "      <th>Country</th>\n",
       "      <th>API Call Date</th>\n",
       "    </tr>\n",
       "  </thead>\n",
       "  <tbody>\n",
       "    <tr>\n",
       "      <th>0</th>\n",
       "      <td>Tasiilaq</td>\n",
       "      <td>65.61</td>\n",
       "      <td>-37.64</td>\n",
       "      <td>33.80</td>\n",
       "      <td>91</td>\n",
       "      <td>100</td>\n",
       "      <td>5.82</td>\n",
       "      <td>GL</td>\n",
       "      <td>2020-10-06 22:04:22</td>\n",
       "    </tr>\n",
       "    <tr>\n",
       "      <th>1</th>\n",
       "      <td>Ushuaia</td>\n",
       "      <td>-54.80</td>\n",
       "      <td>-68.30</td>\n",
       "      <td>37.40</td>\n",
       "      <td>76</td>\n",
       "      <td>40</td>\n",
       "      <td>24.16</td>\n",
       "      <td>AR</td>\n",
       "      <td>2020-10-06 22:02:36</td>\n",
       "    </tr>\n",
       "    <tr>\n",
       "      <th>2</th>\n",
       "      <td>Khanbari</td>\n",
       "      <td>27.37</td>\n",
       "      <td>87.20</td>\n",
       "      <td>68.18</td>\n",
       "      <td>66</td>\n",
       "      <td>22</td>\n",
       "      <td>2.48</td>\n",
       "      <td>NP</td>\n",
       "      <td>2020-10-06 22:04:23</td>\n",
       "    </tr>\n",
       "    <tr>\n",
       "      <th>3</th>\n",
       "      <td>Toora-Khem</td>\n",
       "      <td>52.47</td>\n",
       "      <td>96.11</td>\n",
       "      <td>23.74</td>\n",
       "      <td>95</td>\n",
       "      <td>78</td>\n",
       "      <td>1.74</td>\n",
       "      <td>RU</td>\n",
       "      <td>2020-10-06 22:04:23</td>\n",
       "    </tr>\n",
       "    <tr>\n",
       "      <th>4</th>\n",
       "      <td>San Martín</td>\n",
       "      <td>-33.08</td>\n",
       "      <td>-68.47</td>\n",
       "      <td>78.80</td>\n",
       "      <td>21</td>\n",
       "      <td>0</td>\n",
       "      <td>8.05</td>\n",
       "      <td>AR</td>\n",
       "      <td>2020-10-06 22:04:23</td>\n",
       "    </tr>\n",
       "  </tbody>\n",
       "</table>\n",
       "</div>"
      ],
      "text/plain": [
       "         City  Latitude  Longitude  Max Temp  Humidity  Cloudiness  \\\n",
       "0    Tasiilaq     65.61     -37.64     33.80        91         100   \n",
       "1     Ushuaia    -54.80     -68.30     37.40        76          40   \n",
       "2    Khanbari     27.37      87.20     68.18        66          22   \n",
       "3  Toora-Khem     52.47      96.11     23.74        95          78   \n",
       "4  San Martín    -33.08     -68.47     78.80        21           0   \n",
       "\n",
       "   Wind Speed Country       API Call Date  \n",
       "0        5.82      GL 2020-10-06 22:04:22  \n",
       "1       24.16      AR 2020-10-06 22:02:36  \n",
       "2        2.48      NP 2020-10-06 22:04:23  \n",
       "3        1.74      RU 2020-10-06 22:04:23  \n",
       "4        8.05      AR 2020-10-06 22:04:23  "
      ]
     },
     "execution_count": 2,
     "metadata": {},
     "output_type": "execute_result"
    }
   ],
   "source": [
    "source_file = './output_data/output_cities_AR.csv'\n",
    "cities_df = pd.read_csv(source_file, sep = \",\", low_memory=False)\n",
    "cities_df['API Call Date'] = pd.to_datetime(cities_df['API Call Date'], unit='s')\n",
    "cities_df.head()"
   ]
  },
  {
   "cell_type": "code",
   "execution_count": 3,
   "metadata": {},
   "outputs": [
    {
     "name": "stdout",
     "output_type": "stream",
     "text": [
      "There are 561 rows and 9 columns.\n"
     ]
    }
   ],
   "source": [
    "n_rows, n_cols = cities_df.shape\n",
    "print(f'There are {n_rows} rows and {n_cols} columns.')"
   ]
  },
  {
   "cell_type": "code",
   "execution_count": 4,
   "metadata": {},
   "outputs": [
    {
     "name": "stdout",
     "output_type": "stream",
     "text": [
      "<class 'pandas.core.frame.DataFrame'>\n",
      "RangeIndex: 561 entries, 0 to 560\n",
      "Data columns (total 9 columns):\n",
      " #   Column         Non-Null Count  Dtype         \n",
      "---  ------         --------------  -----         \n",
      " 0   City           561 non-null    object        \n",
      " 1   Latitude       561 non-null    float64       \n",
      " 2   Longitude      561 non-null    float64       \n",
      " 3   Max Temp       561 non-null    float64       \n",
      " 4   Humidity       561 non-null    int64         \n",
      " 5   Cloudiness     561 non-null    int64         \n",
      " 6   Wind Speed     561 non-null    float64       \n",
      " 7   Country        558 non-null    object        \n",
      " 8   API Call Date  561 non-null    datetime64[ns]\n",
      "dtypes: datetime64[ns](1), float64(4), int64(2), object(2)\n",
      "memory usage: 39.6+ KB\n"
     ]
    }
   ],
   "source": [
    "cities_df.info()"
   ]
  },
  {
   "cell_type": "markdown",
   "metadata": {},
   "source": [
    "### Humidity Heat Map"
   ]
  },
  {
   "cell_type": "code",
   "execution_count": 5,
   "metadata": {},
   "outputs": [],
   "source": [
    "# Configure gmaps w API key\n",
    "gmaps.configure(api_key = g_key)\n",
    "locations = cities_df[[\"Latitude\", \"Longitude\"]]\n",
    "weights = cities_df['Humidity']"
   ]
  },
  {
   "cell_type": "code",
   "execution_count": 6,
   "metadata": {},
   "outputs": [
    {
     "data": {
      "application/vnd.jupyter.widget-view+json": {
       "model_id": "8a0a1d3f72e941429f270482a3b4f12e",
       "version_major": 2,
       "version_minor": 0
      },
      "text/plain": [
       "Figure(layout=FigureLayout(height='420px'))"
      ]
     },
     "metadata": {},
     "output_type": "display_data"
    }
   ],
   "source": [
    "# Use the Lat and Lng as locations and Humidity as the weight.\n",
    "fig = gmaps.figure()\n",
    "fig.add_layer(gmaps.heatmap_layer(locations, weights=weights))\n",
    "fig"
   ]
  },
  {
   "cell_type": "code",
   "execution_count": 7,
   "metadata": {},
   "outputs": [
    {
     "data": {
      "application/vnd.jupyter.widget-view+json": {
       "model_id": "6c1367d916c84c3eb1a9cf1375c2c5e7",
       "version_major": 2,
       "version_minor": 0
      },
      "text/plain": [
       "Figure(layout=FigureLayout(height='420px'))"
      ]
     },
     "metadata": {},
     "output_type": "display_data"
    }
   ],
   "source": [
    "# Add Heatmap layer to map.\n",
    "fig = gmaps.figure()\n",
    "heat_layer = gmaps.heatmap_layer(locations,\n",
    "                                 weights = weights, dissipating = False,\n",
    "                                 max_intensity = 300, point_radius = 5)\n",
    "fig.add_layer(heat_layer)\n",
    "fig"
   ]
  },
  {
   "cell_type": "markdown",
   "metadata": {},
   "source": [
    "### Create a new Data Frame\n",
    "Narrow list to include only the cities that meet ALL of the following criteria:\n",
    "* Max Temperature between 70 - 80 degrees. \n",
    "* Wind Speed less than 10 mph.\n",
    "* Zero Cloudiness "
   ]
  },
  {
   "cell_type": "code",
   "execution_count": 8,
   "metadata": {
    "scrolled": true
   },
   "outputs": [],
   "source": [
    "hotel_df = cities_df.loc[(cities_df['Max Temp'] < 80) & \n",
    "                         (cities_df['Max Temp'] > 70) \n",
    "                              & (cities_df['Wind Speed'] < 10) & (cities_df['Humidity'] <=50)].copy() # I like clouds"
   ]
  },
  {
   "cell_type": "markdown",
   "metadata": {},
   "source": [
    "### Hotel Map"
   ]
  },
  {
   "cell_type": "code",
   "execution_count": 9,
   "metadata": {},
   "outputs": [
    {
     "data": {
      "text/html": [
       "<div>\n",
       "<style scoped>\n",
       "    .dataframe tbody tr th:only-of-type {\n",
       "        vertical-align: middle;\n",
       "    }\n",
       "\n",
       "    .dataframe tbody tr th {\n",
       "        vertical-align: top;\n",
       "    }\n",
       "\n",
       "    .dataframe thead th {\n",
       "        text-align: right;\n",
       "    }\n",
       "</style>\n",
       "<table border=\"1\" class=\"dataframe\">\n",
       "  <thead>\n",
       "    <tr style=\"text-align: right;\">\n",
       "      <th></th>\n",
       "      <th>City</th>\n",
       "      <th>Latitude</th>\n",
       "      <th>Longitude</th>\n",
       "      <th>Max Temp</th>\n",
       "      <th>Humidity</th>\n",
       "      <th>Cloudiness</th>\n",
       "      <th>Wind Speed</th>\n",
       "      <th>Country</th>\n",
       "      <th>API Call Date</th>\n",
       "      <th>Hotel Name</th>\n",
       "    </tr>\n",
       "  </thead>\n",
       "  <tbody>\n",
       "    <tr>\n",
       "      <th>0</th>\n",
       "      <td>San Martín</td>\n",
       "      <td>-33.08</td>\n",
       "      <td>-68.47</td>\n",
       "      <td>78.80</td>\n",
       "      <td>21</td>\n",
       "      <td>0</td>\n",
       "      <td>8.05</td>\n",
       "      <td>AR</td>\n",
       "      <td>2020-10-06 22:04:23</td>\n",
       "      <td></td>\n",
       "    </tr>\n",
       "    <tr>\n",
       "      <th>1</th>\n",
       "      <td>Castro</td>\n",
       "      <td>-24.79</td>\n",
       "      <td>-50.01</td>\n",
       "      <td>75.88</td>\n",
       "      <td>41</td>\n",
       "      <td>49</td>\n",
       "      <td>2.98</td>\n",
       "      <td>BR</td>\n",
       "      <td>2020-10-06 22:04:42</td>\n",
       "      <td></td>\n",
       "    </tr>\n",
       "    <tr>\n",
       "      <th>2</th>\n",
       "      <td>Kiryat Gat</td>\n",
       "      <td>31.61</td>\n",
       "      <td>34.76</td>\n",
       "      <td>75.99</td>\n",
       "      <td>43</td>\n",
       "      <td>0</td>\n",
       "      <td>1.99</td>\n",
       "      <td>IL</td>\n",
       "      <td>2020-10-06 22:05:02</td>\n",
       "      <td></td>\n",
       "    </tr>\n",
       "    <tr>\n",
       "      <th>3</th>\n",
       "      <td>Barentu</td>\n",
       "      <td>15.11</td>\n",
       "      <td>37.59</td>\n",
       "      <td>77.41</td>\n",
       "      <td>39</td>\n",
       "      <td>0</td>\n",
       "      <td>2.46</td>\n",
       "      <td>ER</td>\n",
       "      <td>2020-10-06 22:05:13</td>\n",
       "      <td></td>\n",
       "    </tr>\n",
       "    <tr>\n",
       "      <th>4</th>\n",
       "      <td>Sojat</td>\n",
       "      <td>25.92</td>\n",
       "      <td>73.67</td>\n",
       "      <td>77.14</td>\n",
       "      <td>39</td>\n",
       "      <td>100</td>\n",
       "      <td>5.03</td>\n",
       "      <td>IN</td>\n",
       "      <td>2020-10-06 22:05:24</td>\n",
       "      <td></td>\n",
       "    </tr>\n",
       "  </tbody>\n",
       "</table>\n",
       "</div>"
      ],
      "text/plain": [
       "         City  Latitude  Longitude  Max Temp  Humidity  Cloudiness  \\\n",
       "0  San Martín    -33.08     -68.47     78.80        21           0   \n",
       "1      Castro    -24.79     -50.01     75.88        41          49   \n",
       "2  Kiryat Gat     31.61      34.76     75.99        43           0   \n",
       "3     Barentu     15.11      37.59     77.41        39           0   \n",
       "4       Sojat     25.92      73.67     77.14        39         100   \n",
       "\n",
       "   Wind Speed Country       API Call Date Hotel Name  \n",
       "0        8.05      AR 2020-10-06 22:04:23             \n",
       "1        2.98      BR 2020-10-06 22:04:42             \n",
       "2        1.99      IL 2020-10-06 22:05:02             \n",
       "3        2.46      ER 2020-10-06 22:05:13             \n",
       "4        5.03      IN 2020-10-06 22:05:24             "
      ]
     },
     "execution_count": 9,
     "metadata": {},
     "output_type": "execute_result"
    }
   ],
   "source": [
    "# * Store into variable named `hotel_df`.\n",
    "# Add a \"Hotel Name\" column to the DataFrame.\n",
    "hotel_df['Hotel Name'] = \"\"\n",
    "hotel_df.reset_index(drop=True).head()"
   ]
  },
  {
   "cell_type": "code",
   "execution_count": 10,
   "metadata": {},
   "outputs": [
    {
     "name": "stdout",
     "output_type": "stream",
     "text": [
      "No hotels available near Barentu.\n",
      "\n"
     ]
    },
    {
     "data": {
      "text/html": [
       "<div>\n",
       "<style scoped>\n",
       "    .dataframe tbody tr th:only-of-type {\n",
       "        vertical-align: middle;\n",
       "    }\n",
       "\n",
       "    .dataframe tbody tr th {\n",
       "        vertical-align: top;\n",
       "    }\n",
       "\n",
       "    .dataframe thead th {\n",
       "        text-align: right;\n",
       "    }\n",
       "</style>\n",
       "<table border=\"1\" class=\"dataframe\">\n",
       "  <thead>\n",
       "    <tr style=\"text-align: right;\">\n",
       "      <th></th>\n",
       "      <th>City</th>\n",
       "      <th>Latitude</th>\n",
       "      <th>Longitude</th>\n",
       "      <th>Max Temp</th>\n",
       "      <th>Humidity</th>\n",
       "      <th>Cloudiness</th>\n",
       "      <th>Wind Speed</th>\n",
       "      <th>Country</th>\n",
       "      <th>API Call Date</th>\n",
       "      <th>Hotel Name</th>\n",
       "    </tr>\n",
       "  </thead>\n",
       "  <tbody>\n",
       "    <tr>\n",
       "      <th>4</th>\n",
       "      <td>San Martín</td>\n",
       "      <td>-33.08</td>\n",
       "      <td>-68.47</td>\n",
       "      <td>78.80</td>\n",
       "      <td>21</td>\n",
       "      <td>0</td>\n",
       "      <td>8.05</td>\n",
       "      <td>AR</td>\n",
       "      <td>2020-10-06 22:04:23</td>\n",
       "      <td>Finca Vivencias</td>\n",
       "    </tr>\n",
       "    <tr>\n",
       "      <th>74</th>\n",
       "      <td>Castro</td>\n",
       "      <td>-24.79</td>\n",
       "      <td>-50.01</td>\n",
       "      <td>75.88</td>\n",
       "      <td>41</td>\n",
       "      <td>49</td>\n",
       "      <td>2.98</td>\n",
       "      <td>BR</td>\n",
       "      <td>2020-10-06 22:04:42</td>\n",
       "      <td>CHACARA BAILLY</td>\n",
       "    </tr>\n",
       "    <tr>\n",
       "      <th>153</th>\n",
       "      <td>Kiryat Gat</td>\n",
       "      <td>31.61</td>\n",
       "      <td>34.76</td>\n",
       "      <td>75.99</td>\n",
       "      <td>43</td>\n",
       "      <td>0</td>\n",
       "      <td>1.99</td>\n",
       "      <td>IL</td>\n",
       "      <td>2020-10-06 22:05:02</td>\n",
       "      <td>OlusHome</td>\n",
       "    </tr>\n",
       "    <tr>\n",
       "      <th>191</th>\n",
       "      <td>Barentu</td>\n",
       "      <td>15.11</td>\n",
       "      <td>37.59</td>\n",
       "      <td>77.41</td>\n",
       "      <td>39</td>\n",
       "      <td>0</td>\n",
       "      <td>2.46</td>\n",
       "      <td>ER</td>\n",
       "      <td>2020-10-06 22:05:13</td>\n",
       "      <td>none available</td>\n",
       "    </tr>\n",
       "    <tr>\n",
       "      <th>239</th>\n",
       "      <td>Sojat</td>\n",
       "      <td>25.92</td>\n",
       "      <td>73.67</td>\n",
       "      <td>77.14</td>\n",
       "      <td>39</td>\n",
       "      <td>100</td>\n",
       "      <td>5.03</td>\n",
       "      <td>IN</td>\n",
       "      <td>2020-10-06 22:05:24</td>\n",
       "      <td>AASHIRWAD BHAWAN</td>\n",
       "    </tr>\n",
       "    <tr>\n",
       "      <th>289</th>\n",
       "      <td>Oodweyne</td>\n",
       "      <td>9.41</td>\n",
       "      <td>45.06</td>\n",
       "      <td>76.51</td>\n",
       "      <td>28</td>\n",
       "      <td>24</td>\n",
       "      <td>4.72</td>\n",
       "      <td>SO</td>\n",
       "      <td>2020-10-06 22:05:37</td>\n",
       "      <td>Eng Hiirey House</td>\n",
       "    </tr>\n",
       "    <tr>\n",
       "      <th>315</th>\n",
       "      <td>Najrān</td>\n",
       "      <td>17.49</td>\n",
       "      <td>44.13</td>\n",
       "      <td>71.60</td>\n",
       "      <td>21</td>\n",
       "      <td>0</td>\n",
       "      <td>2.10</td>\n",
       "      <td>SA</td>\n",
       "      <td>2020-10-06 22:05:45</td>\n",
       "      <td>محمد هادي ال فطيح</td>\n",
       "    </tr>\n",
       "    <tr>\n",
       "      <th>331</th>\n",
       "      <td>Rundu</td>\n",
       "      <td>-17.93</td>\n",
       "      <td>19.77</td>\n",
       "      <td>76.37</td>\n",
       "      <td>22</td>\n",
       "      <td>20</td>\n",
       "      <td>4.52</td>\n",
       "      <td>NaN</td>\n",
       "      <td>2020-10-06 22:05:49</td>\n",
       "      <td>Millennia Estate</td>\n",
       "    </tr>\n",
       "    <tr>\n",
       "      <th>378</th>\n",
       "      <td>Jalpa</td>\n",
       "      <td>21.63</td>\n",
       "      <td>-102.97</td>\n",
       "      <td>78.80</td>\n",
       "      <td>9</td>\n",
       "      <td>75</td>\n",
       "      <td>9.17</td>\n",
       "      <td>MX</td>\n",
       "      <td>2020-10-06 22:06:02</td>\n",
       "      <td>Estacionamiento \"El Nogal\"</td>\n",
       "    </tr>\n",
       "    <tr>\n",
       "      <th>406</th>\n",
       "      <td>Anagé</td>\n",
       "      <td>-14.61</td>\n",
       "      <td>-41.14</td>\n",
       "      <td>79.52</td>\n",
       "      <td>49</td>\n",
       "      <td>2</td>\n",
       "      <td>6.35</td>\n",
       "      <td>BR</td>\n",
       "      <td>2020-10-06 22:06:10</td>\n",
       "      <td>Lagoa Torta Anage Bahia</td>\n",
       "    </tr>\n",
       "    <tr>\n",
       "      <th>498</th>\n",
       "      <td>Lebanon</td>\n",
       "      <td>36.21</td>\n",
       "      <td>-86.29</td>\n",
       "      <td>75.99</td>\n",
       "      <td>44</td>\n",
       "      <td>1</td>\n",
       "      <td>8.05</td>\n",
       "      <td>US</td>\n",
       "      <td>2020-10-06 22:06:35</td>\n",
       "      <td>Hampton Inn &amp; Suites Lebanon</td>\n",
       "    </tr>\n",
       "  </tbody>\n",
       "</table>\n",
       "</div>"
      ],
      "text/plain": [
       "           City  Latitude  Longitude  Max Temp  Humidity  Cloudiness  \\\n",
       "4    San Martín    -33.08     -68.47     78.80        21           0   \n",
       "74       Castro    -24.79     -50.01     75.88        41          49   \n",
       "153  Kiryat Gat     31.61      34.76     75.99        43           0   \n",
       "191     Barentu     15.11      37.59     77.41        39           0   \n",
       "239       Sojat     25.92      73.67     77.14        39         100   \n",
       "289    Oodweyne      9.41      45.06     76.51        28          24   \n",
       "315      Najrān     17.49      44.13     71.60        21           0   \n",
       "331       Rundu    -17.93      19.77     76.37        22          20   \n",
       "378       Jalpa     21.63    -102.97     78.80         9          75   \n",
       "406       Anagé    -14.61     -41.14     79.52        49           2   \n",
       "498     Lebanon     36.21     -86.29     75.99        44           1   \n",
       "\n",
       "     Wind Speed Country       API Call Date                    Hotel Name  \n",
       "4          8.05      AR 2020-10-06 22:04:23               Finca Vivencias  \n",
       "74         2.98      BR 2020-10-06 22:04:42                CHACARA BAILLY  \n",
       "153        1.99      IL 2020-10-06 22:05:02                      OlusHome  \n",
       "191        2.46      ER 2020-10-06 22:05:13                none available  \n",
       "239        5.03      IN 2020-10-06 22:05:24              AASHIRWAD BHAWAN  \n",
       "289        4.72      SO 2020-10-06 22:05:37              Eng Hiirey House  \n",
       "315        2.10      SA 2020-10-06 22:05:45             محمد هادي ال فطيح  \n",
       "331        4.52     NaN 2020-10-06 22:05:49              Millennia Estate  \n",
       "378        9.17      MX 2020-10-06 22:06:02    Estacionamiento \"El Nogal\"  \n",
       "406        6.35      BR 2020-10-06 22:06:10       Lagoa Torta Anage Bahia  \n",
       "498        8.05      US 2020-10-06 22:06:35  Hampton Inn & Suites Lebanon  "
      ]
     },
     "execution_count": 10,
     "metadata": {},
     "output_type": "execute_result"
    }
   ],
   "source": [
    "# Set parameters to search for hotels with 5000 meters.\n",
    "radius = 5000\n",
    "\n",
    "# Use Google Places API for each city's coordinates.\n",
    "base_url_nearby = \"https://maps.googleapis.com/maps/api/place/nearbysearch/json\"\n",
    "\n",
    "# Store the first Hotel result into the DataFrame.\n",
    "params = {\n",
    "    \"types\": \"lodging\",\n",
    "    \"radius\": radius,\n",
    "    \"key\": g_key}\n",
    "\n",
    "for index,row in hotel_df.iterrows():\n",
    "    lat=row[\"Latitude\"]\n",
    "    lng=row[\"Longitude\"]\n",
    "    params[\"location\"]=f\"{lat},{lng}\"\n",
    "    \n",
    "# RUN REQUEST\n",
    "    response = requests.get(base_url_nearby, params)\n",
    "# TEST RESULTS\n",
    "    results = response.json()\n",
    "# PRINT RESULTS\n",
    "    try:\n",
    "     # record the hotel name\n",
    "        hotel_df['Hotel Name'][index] = results[\"results\"][0][\"name\"]\n",
    "    except IndexError:\n",
    "        print(f\"No hotels available near {hotel_df['City'][index]}.\\n\")\n",
    "        hotel_df['Hotel Name'][index] = \"none available\"\n",
    "hotel_df"
   ]
  },
  {
   "cell_type": "code",
   "execution_count": 11,
   "metadata": {},
   "outputs": [],
   "source": [
    "# Using the template provided, add the hotel marks to the heatmap\n",
    "info_box_template = \"\"\"\n",
    "<dl>\n",
    "<dt>Name</dt><dd>{Hotel Name}</dd>\n",
    "<dt>City</dt><dd>{City}</dd>\n",
    "<dt>Country</dt><dd>{Country}</dd>\n",
    "</dl>\n",
    "\"\"\"\n",
    "hotel_info = [info_box_template.format(**row) for index, row in hotel_df.iterrows()]\n",
    "locations = hotel_df[[\"Latitude\", \"Longitude\"]]"
   ]
  },
  {
   "cell_type": "code",
   "execution_count": 12,
   "metadata": {},
   "outputs": [
    {
     "data": {
      "application/vnd.jupyter.widget-view+json": {
       "model_id": "6c1367d916c84c3eb1a9cf1375c2c5e7",
       "version_major": 2,
       "version_minor": 0
      },
      "text/plain": [
       "Figure(layout=FigureLayout(height='420px'))"
      ]
     },
     "metadata": {},
     "output_type": "display_data"
    }
   ],
   "source": [
    "# Plot markers on top of the heatmap.\n",
    "new_map = gmaps.marker_layer(locations, info_box_content = hotel_info)\n",
    "fig.add_layer(new_map)\n",
    "fig"
   ]
  }
 ],
 "metadata": {
  "kernelspec": {
   "display_name": "Python 3",
   "language": "python",
   "name": "python3"
  },
  "language_info": {
   "codemirror_mode": {
    "name": "ipython",
    "version": 3
   },
   "file_extension": ".py",
   "mimetype": "text/x-python",
   "name": "python",
   "nbconvert_exporter": "python",
   "pygments_lexer": "ipython3",
   "version": "3.8.3"
  },
  "latex_envs": {
   "LaTeX_envs_menu_present": true,
   "autoclose": false,
   "autocomplete": true,
   "bibliofile": "biblio.bib",
   "cite_by": "apalike",
   "current_citInitial": 1,
   "eqLabelWithNumbers": true,
   "eqNumInitial": 1,
   "hotkeys": {
    "equation": "Ctrl-E",
    "itemize": "Ctrl-I"
   },
   "labels_anchors": false,
   "latex_user_defs": false,
   "report_style_numbering": false,
   "user_envs_cfg": false
  }
 },
 "nbformat": 4,
 "nbformat_minor": 4
}
