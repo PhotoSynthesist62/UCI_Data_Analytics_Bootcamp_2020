{
 "cells": [
  {
   "cell_type": "markdown",
   "metadata": {},
   "source": [
    "## VacationPy"
   ]
  },
  {
   "cell_type": "code",
   "execution_count": 1,
   "metadata": {},
   "outputs": [],
   "source": [
    "# Dependencies and Setup\n",
    "import matplotlib.pyplot as plt\n",
    "%matplotlib inline\n",
    "import warnings\n",
    "warnings.simplefilter('ignore')\n",
    "import pandas as pd\n",
    "import numpy as np\n",
    "import requests\n",
    "import gmaps\n",
    "import os\n",
    "\n",
    "# Import API key\n",
    "from config import g_key"
   ]
  },
  {
   "cell_type": "markdown",
   "metadata": {},
   "source": [
    "### Import .csv from WeatherPy (Part 1) into a DataFrame"
   ]
  },
  {
   "cell_type": "code",
   "execution_count": 2,
   "metadata": {},
   "outputs": [
    {
     "data": {
      "text/html": [
       "<div>\n",
       "<style scoped>\n",
       "    .dataframe tbody tr th:only-of-type {\n",
       "        vertical-align: middle;\n",
       "    }\n",
       "\n",
       "    .dataframe tbody tr th {\n",
       "        vertical-align: top;\n",
       "    }\n",
       "\n",
       "    .dataframe thead th {\n",
       "        text-align: right;\n",
       "    }\n",
       "</style>\n",
       "<table border=\"1\" class=\"dataframe\">\n",
       "  <thead>\n",
       "    <tr style=\"text-align: right;\">\n",
       "      <th></th>\n",
       "      <th>City</th>\n",
       "      <th>Latitude</th>\n",
       "      <th>Longitude</th>\n",
       "      <th>Max Temp</th>\n",
       "      <th>Humidity</th>\n",
       "      <th>Cloudiness</th>\n",
       "      <th>Wind Speed</th>\n",
       "      <th>Country</th>\n",
       "      <th>Date</th>\n",
       "    </tr>\n",
       "  </thead>\n",
       "  <tbody>\n",
       "    <tr>\n",
       "      <th>0</th>\n",
       "      <td>Qaanaaq</td>\n",
       "      <td>77.48</td>\n",
       "      <td>-69.36</td>\n",
       "      <td>14.79</td>\n",
       "      <td>81</td>\n",
       "      <td>0</td>\n",
       "      <td>7.00</td>\n",
       "      <td>GL</td>\n",
       "      <td>2020-09-29 21:15:01</td>\n",
       "    </tr>\n",
       "    <tr>\n",
       "      <th>1</th>\n",
       "      <td>Lata</td>\n",
       "      <td>40.16</td>\n",
       "      <td>-8.33</td>\n",
       "      <td>66.00</td>\n",
       "      <td>88</td>\n",
       "      <td>55</td>\n",
       "      <td>2.06</td>\n",
       "      <td>PT</td>\n",
       "      <td>2020-09-29 21:17:54</td>\n",
       "    </tr>\n",
       "    <tr>\n",
       "      <th>2</th>\n",
       "      <td>Hilo</td>\n",
       "      <td>19.73</td>\n",
       "      <td>-155.09</td>\n",
       "      <td>84.20</td>\n",
       "      <td>66</td>\n",
       "      <td>1</td>\n",
       "      <td>12.75</td>\n",
       "      <td>US</td>\n",
       "      <td>2020-09-29 21:17:54</td>\n",
       "    </tr>\n",
       "    <tr>\n",
       "      <th>3</th>\n",
       "      <td>Bandarbeyla</td>\n",
       "      <td>9.49</td>\n",
       "      <td>50.81</td>\n",
       "      <td>77.90</td>\n",
       "      <td>81</td>\n",
       "      <td>93</td>\n",
       "      <td>22.73</td>\n",
       "      <td>SO</td>\n",
       "      <td>2020-09-29 21:17:54</td>\n",
       "    </tr>\n",
       "    <tr>\n",
       "      <th>4</th>\n",
       "      <td>Hermanus</td>\n",
       "      <td>-34.42</td>\n",
       "      <td>19.23</td>\n",
       "      <td>51.01</td>\n",
       "      <td>86</td>\n",
       "      <td>11</td>\n",
       "      <td>6.76</td>\n",
       "      <td>ZA</td>\n",
       "      <td>2020-09-29 21:17:55</td>\n",
       "    </tr>\n",
       "  </tbody>\n",
       "</table>\n",
       "</div>"
      ],
      "text/plain": [
       "          City  Latitude  Longitude  Max Temp  Humidity  Cloudiness  \\\n",
       "0      Qaanaaq     77.48     -69.36     14.79        81           0   \n",
       "1         Lata     40.16      -8.33     66.00        88          55   \n",
       "2         Hilo     19.73    -155.09     84.20        66           1   \n",
       "3  Bandarbeyla      9.49      50.81     77.90        81          93   \n",
       "4     Hermanus    -34.42      19.23     51.01        86          11   \n",
       "\n",
       "   Wind Speed Country                Date  \n",
       "0        7.00      GL 2020-09-29 21:15:01  \n",
       "1        2.06      PT 2020-09-29 21:17:54  \n",
       "2       12.75      US 2020-09-29 21:17:54  \n",
       "3       22.73      SO 2020-09-29 21:17:54  \n",
       "4        6.76      ZA 2020-09-29 21:17:55  "
      ]
     },
     "execution_count": 2,
     "metadata": {},
     "output_type": "execute_result"
    }
   ],
   "source": [
    "source_file = './output_data/output_cities_AR.csv'\n",
    "cities_df = pd.read_csv(source_file, sep = \",\", low_memory=False)\n",
    "cities_df['Date'] = pd.to_datetime(cities_df['Date'], unit='s')\n",
    "cities_df.head()"
   ]
  },
  {
   "cell_type": "code",
   "execution_count": 3,
   "metadata": {},
   "outputs": [
    {
     "name": "stdout",
     "output_type": "stream",
     "text": [
      "There are 558 rows and 9 columns.\n"
     ]
    }
   ],
   "source": [
    "n_rows, n_cols = cities_df.shape\n",
    "print(f'There are {n_rows} rows and {n_cols} columns.')"
   ]
  },
  {
   "cell_type": "code",
   "execution_count": 4,
   "metadata": {},
   "outputs": [
    {
     "name": "stdout",
     "output_type": "stream",
     "text": [
      "<class 'pandas.core.frame.DataFrame'>\n",
      "RangeIndex: 558 entries, 0 to 557\n",
      "Data columns (total 9 columns):\n",
      " #   Column      Non-Null Count  Dtype         \n",
      "---  ------      --------------  -----         \n",
      " 0   City        558 non-null    object        \n",
      " 1   Latitude    558 non-null    float64       \n",
      " 2   Longitude   558 non-null    float64       \n",
      " 3   Max Temp    558 non-null    float64       \n",
      " 4   Humidity    558 non-null    int64         \n",
      " 5   Cloudiness  558 non-null    int64         \n",
      " 6   Wind Speed  558 non-null    float64       \n",
      " 7   Country     555 non-null    object        \n",
      " 8   Date        558 non-null    datetime64[ns]\n",
      "dtypes: datetime64[ns](1), float64(4), int64(2), object(2)\n",
      "memory usage: 39.4+ KB\n"
     ]
    }
   ],
   "source": [
    "cities_df.info()"
   ]
  },
  {
   "cell_type": "markdown",
   "metadata": {},
   "source": [
    "### Humidity Heat Map"
   ]
  },
  {
   "cell_type": "code",
   "execution_count": 5,
   "metadata": {},
   "outputs": [],
   "source": [
    "# Configure gmaps w API key\n",
    "gmaps.configure(api_key = g_key)\n",
    "locations = cities_df[[\"Latitude\", \"Longitude\"]]\n",
    "weights = cities_df['Humidity']"
   ]
  },
  {
   "cell_type": "code",
   "execution_count": 6,
   "metadata": {},
   "outputs": [
    {
     "data": {
      "application/vnd.jupyter.widget-view+json": {
       "model_id": "77e6e07a701741b5bbbe4f55dd1e5ecd",
       "version_major": 2,
       "version_minor": 0
      },
      "text/plain": [
       "Figure(layout=FigureLayout(height='420px'))"
      ]
     },
     "metadata": {},
     "output_type": "display_data"
    }
   ],
   "source": [
    "# Use the Lat and Lng as locations and Humidity as the weight.\n",
    "fig = gmaps.figure()\n",
    "fig.add_layer(gmaps.heatmap_layer(locations, weights=weights))\n",
    "fig"
   ]
  },
  {
   "cell_type": "code",
   "execution_count": 7,
   "metadata": {},
   "outputs": [
    {
     "data": {
      "application/vnd.jupyter.widget-view+json": {
       "model_id": "de4fc79a0b424ed1ab19d06cafe4247d",
       "version_major": 2,
       "version_minor": 0
      },
      "text/plain": [
       "Figure(layout=FigureLayout(height='420px'))"
      ]
     },
     "metadata": {},
     "output_type": "display_data"
    }
   ],
   "source": [
    "# Add Heatmap layer to map.\n",
    "fig = gmaps.figure()\n",
    "heat_layer = gmaps.heatmap_layer(locations,\n",
    "                                 weights = weights, dissipating = False,\n",
    "                                 max_intensity = 300, point_radius = 5)\n",
    "fig.add_layer(heat_layer)\n",
    "fig"
   ]
  },
  {
   "cell_type": "markdown",
   "metadata": {},
   "source": [
    "### Create a new Data Frame\n",
    "Narrow list to include only the cities that meet ALL of the following criteria:\n",
    "* Max Temperature between 70 - 80 degrees. \n",
    "* Wind Speed less than 10 mph.\n",
    "* Zero Cloudiness "
   ]
  },
  {
   "cell_type": "code",
   "execution_count": 8,
   "metadata": {
    "scrolled": true
   },
   "outputs": [],
   "source": [
    "hotel_df = cities_df.loc[(cities_df['Max Temp'] < 80) & \n",
    "                         (cities_df['Max Temp'] > 70) \n",
    "                              & (cities_df['Wind Speed'] < 10) & (cities_df['Humidity'] <=50)].copy() # I like clouds"
   ]
  },
  {
   "cell_type": "markdown",
   "metadata": {},
   "source": [
    "### Hotel Map"
   ]
  },
  {
   "cell_type": "code",
   "execution_count": 9,
   "metadata": {},
   "outputs": [
    {
     "data": {
      "text/html": [
       "<div>\n",
       "<style scoped>\n",
       "    .dataframe tbody tr th:only-of-type {\n",
       "        vertical-align: middle;\n",
       "    }\n",
       "\n",
       "    .dataframe tbody tr th {\n",
       "        vertical-align: top;\n",
       "    }\n",
       "\n",
       "    .dataframe thead th {\n",
       "        text-align: right;\n",
       "    }\n",
       "</style>\n",
       "<table border=\"1\" class=\"dataframe\">\n",
       "  <thead>\n",
       "    <tr style=\"text-align: right;\">\n",
       "      <th></th>\n",
       "      <th>City</th>\n",
       "      <th>Latitude</th>\n",
       "      <th>Longitude</th>\n",
       "      <th>Max Temp</th>\n",
       "      <th>Humidity</th>\n",
       "      <th>Cloudiness</th>\n",
       "      <th>Wind Speed</th>\n",
       "      <th>Country</th>\n",
       "      <th>Date</th>\n",
       "      <th>Hotel Name</th>\n",
       "    </tr>\n",
       "  </thead>\n",
       "  <tbody>\n",
       "    <tr>\n",
       "      <th>0</th>\n",
       "      <td>Nizwá</td>\n",
       "      <td>22.93</td>\n",
       "      <td>57.53</td>\n",
       "      <td>78.08</td>\n",
       "      <td>33</td>\n",
       "      <td>0</td>\n",
       "      <td>2.08</td>\n",
       "      <td>OM</td>\n",
       "      <td>2020-09-29 21:18:25</td>\n",
       "      <td></td>\n",
       "    </tr>\n",
       "    <tr>\n",
       "      <th>1</th>\n",
       "      <td>Maun</td>\n",
       "      <td>-19.98</td>\n",
       "      <td>23.42</td>\n",
       "      <td>77.00</td>\n",
       "      <td>25</td>\n",
       "      <td>0</td>\n",
       "      <td>8.05</td>\n",
       "      <td>BW</td>\n",
       "      <td>2020-09-29 21:15:17</td>\n",
       "      <td></td>\n",
       "    </tr>\n",
       "    <tr>\n",
       "      <th>2</th>\n",
       "      <td>Dahuk</td>\n",
       "      <td>36.87</td>\n",
       "      <td>42.99</td>\n",
       "      <td>70.95</td>\n",
       "      <td>27</td>\n",
       "      <td>39</td>\n",
       "      <td>3.71</td>\n",
       "      <td>IQ</td>\n",
       "      <td>2020-09-29 21:18:42</td>\n",
       "      <td></td>\n",
       "    </tr>\n",
       "    <tr>\n",
       "      <th>3</th>\n",
       "      <td>Minchianabad</td>\n",
       "      <td>30.16</td>\n",
       "      <td>73.57</td>\n",
       "      <td>79.41</td>\n",
       "      <td>25</td>\n",
       "      <td>0</td>\n",
       "      <td>3.89</td>\n",
       "      <td>PK</td>\n",
       "      <td>2020-09-29 21:18:47</td>\n",
       "      <td></td>\n",
       "    </tr>\n",
       "    <tr>\n",
       "      <th>4</th>\n",
       "      <td>Vallenar</td>\n",
       "      <td>-28.57</td>\n",
       "      <td>-70.76</td>\n",
       "      <td>73.49</td>\n",
       "      <td>26</td>\n",
       "      <td>0</td>\n",
       "      <td>8.72</td>\n",
       "      <td>CL</td>\n",
       "      <td>2020-09-29 21:18:55</td>\n",
       "      <td></td>\n",
       "    </tr>\n",
       "  </tbody>\n",
       "</table>\n",
       "</div>"
      ],
      "text/plain": [
       "           City  Latitude  Longitude  Max Temp  Humidity  Cloudiness  \\\n",
       "0         Nizwá     22.93      57.53     78.08        33           0   \n",
       "1          Maun    -19.98      23.42     77.00        25           0   \n",
       "2         Dahuk     36.87      42.99     70.95        27          39   \n",
       "3  Minchianabad     30.16      73.57     79.41        25           0   \n",
       "4      Vallenar    -28.57     -70.76     73.49        26           0   \n",
       "\n",
       "   Wind Speed Country                Date Hotel Name  \n",
       "0        2.08      OM 2020-09-29 21:18:25             \n",
       "1        8.05      BW 2020-09-29 21:15:17             \n",
       "2        3.71      IQ 2020-09-29 21:18:42             \n",
       "3        3.89      PK 2020-09-29 21:18:47             \n",
       "4        8.72      CL 2020-09-29 21:18:55             "
      ]
     },
     "execution_count": 9,
     "metadata": {},
     "output_type": "execute_result"
    }
   ],
   "source": [
    "# * Store into variable named `hotel_df`.\n",
    "# Add a \"Hotel Name\" column to the DataFrame.\n",
    "hotel_df['Hotel Name'] = \"\"\n",
    "hotel_df.reset_index(drop=True).head()"
   ]
  },
  {
   "cell_type": "code",
   "execution_count": 10,
   "metadata": {},
   "outputs": [
    {
     "name": "stdout",
     "output_type": "stream",
     "text": [
      "No hotels available near Abu Samrah.\n",
      "\n"
     ]
    },
    {
     "data": {
      "text/html": [
       "<div>\n",
       "<style scoped>\n",
       "    .dataframe tbody tr th:only-of-type {\n",
       "        vertical-align: middle;\n",
       "    }\n",
       "\n",
       "    .dataframe tbody tr th {\n",
       "        vertical-align: top;\n",
       "    }\n",
       "\n",
       "    .dataframe thead th {\n",
       "        text-align: right;\n",
       "    }\n",
       "</style>\n",
       "<table border=\"1\" class=\"dataframe\">\n",
       "  <thead>\n",
       "    <tr style=\"text-align: right;\">\n",
       "      <th></th>\n",
       "      <th>City</th>\n",
       "      <th>Latitude</th>\n",
       "      <th>Longitude</th>\n",
       "      <th>Max Temp</th>\n",
       "      <th>Humidity</th>\n",
       "      <th>Cloudiness</th>\n",
       "      <th>Wind Speed</th>\n",
       "      <th>Country</th>\n",
       "      <th>Date</th>\n",
       "      <th>Hotel Name</th>\n",
       "    </tr>\n",
       "  </thead>\n",
       "  <tbody>\n",
       "    <tr>\n",
       "      <th>83</th>\n",
       "      <td>Nizwá</td>\n",
       "      <td>22.93</td>\n",
       "      <td>57.53</td>\n",
       "      <td>78.08</td>\n",
       "      <td>33</td>\n",
       "      <td>0</td>\n",
       "      <td>2.08</td>\n",
       "      <td>OM</td>\n",
       "      <td>2020-09-29 21:18:25</td>\n",
       "      <td>Orient Apartments</td>\n",
       "    </tr>\n",
       "    <tr>\n",
       "      <th>87</th>\n",
       "      <td>Maun</td>\n",
       "      <td>-19.98</td>\n",
       "      <td>23.42</td>\n",
       "      <td>77.00</td>\n",
       "      <td>25</td>\n",
       "      <td>0</td>\n",
       "      <td>8.05</td>\n",
       "      <td>BW</td>\n",
       "      <td>2020-09-29 21:15:17</td>\n",
       "      <td>Enviro Villa</td>\n",
       "    </tr>\n",
       "    <tr>\n",
       "      <th>130</th>\n",
       "      <td>Dahuk</td>\n",
       "      <td>36.87</td>\n",
       "      <td>42.99</td>\n",
       "      <td>70.95</td>\n",
       "      <td>27</td>\n",
       "      <td>39</td>\n",
       "      <td>3.71</td>\n",
       "      <td>IQ</td>\n",
       "      <td>2020-09-29 21:18:42</td>\n",
       "      <td>Parwar Hotel</td>\n",
       "    </tr>\n",
       "    <tr>\n",
       "      <th>146</th>\n",
       "      <td>Minchianabad</td>\n",
       "      <td>30.16</td>\n",
       "      <td>73.57</td>\n",
       "      <td>79.41</td>\n",
       "      <td>25</td>\n",
       "      <td>0</td>\n",
       "      <td>3.89</td>\n",
       "      <td>PK</td>\n",
       "      <td>2020-09-29 21:18:47</td>\n",
       "      <td>Ayyaz House</td>\n",
       "    </tr>\n",
       "    <tr>\n",
       "      <th>166</th>\n",
       "      <td>Vallenar</td>\n",
       "      <td>-28.57</td>\n",
       "      <td>-70.76</td>\n",
       "      <td>73.49</td>\n",
       "      <td>26</td>\n",
       "      <td>0</td>\n",
       "      <td>8.72</td>\n",
       "      <td>CL</td>\n",
       "      <td>2020-09-29 21:18:55</td>\n",
       "      <td>Humacao Bed &amp; Breakfast</td>\n",
       "    </tr>\n",
       "    <tr>\n",
       "      <th>241</th>\n",
       "      <td>San Rafael</td>\n",
       "      <td>-34.62</td>\n",
       "      <td>-68.33</td>\n",
       "      <td>75.20</td>\n",
       "      <td>18</td>\n",
       "      <td>0</td>\n",
       "      <td>7.78</td>\n",
       "      <td>AR</td>\n",
       "      <td>2020-09-29 21:19:28</td>\n",
       "      <td>Hotel San Rafael</td>\n",
       "    </tr>\n",
       "    <tr>\n",
       "      <th>380</th>\n",
       "      <td>Najrān</td>\n",
       "      <td>17.49</td>\n",
       "      <td>44.13</td>\n",
       "      <td>77.00</td>\n",
       "      <td>23</td>\n",
       "      <td>31</td>\n",
       "      <td>2.75</td>\n",
       "      <td>SA</td>\n",
       "      <td>2020-09-29 21:20:17</td>\n",
       "      <td>محمد هادي ال فطيح</td>\n",
       "    </tr>\n",
       "    <tr>\n",
       "      <th>402</th>\n",
       "      <td>Roebourne</td>\n",
       "      <td>-20.78</td>\n",
       "      <td>117.13</td>\n",
       "      <td>70.16</td>\n",
       "      <td>35</td>\n",
       "      <td>82</td>\n",
       "      <td>6.85</td>\n",
       "      <td>AU</td>\n",
       "      <td>2020-09-29 21:20:25</td>\n",
       "      <td>Harding River Caravan Park</td>\n",
       "    </tr>\n",
       "    <tr>\n",
       "      <th>446</th>\n",
       "      <td>Abu Samrah</td>\n",
       "      <td>35.30</td>\n",
       "      <td>37.18</td>\n",
       "      <td>74.61</td>\n",
       "      <td>42</td>\n",
       "      <td>36</td>\n",
       "      <td>8.39</td>\n",
       "      <td>SY</td>\n",
       "      <td>2020-09-29 21:20:40</td>\n",
       "      <td>none available</td>\n",
       "    </tr>\n",
       "  </tbody>\n",
       "</table>\n",
       "</div>"
      ],
      "text/plain": [
       "             City  Latitude  Longitude  Max Temp  Humidity  Cloudiness  \\\n",
       "83          Nizwá     22.93      57.53     78.08        33           0   \n",
       "87           Maun    -19.98      23.42     77.00        25           0   \n",
       "130         Dahuk     36.87      42.99     70.95        27          39   \n",
       "146  Minchianabad     30.16      73.57     79.41        25           0   \n",
       "166      Vallenar    -28.57     -70.76     73.49        26           0   \n",
       "241    San Rafael    -34.62     -68.33     75.20        18           0   \n",
       "380        Najrān     17.49      44.13     77.00        23          31   \n",
       "402     Roebourne    -20.78     117.13     70.16        35          82   \n",
       "446    Abu Samrah     35.30      37.18     74.61        42          36   \n",
       "\n",
       "     Wind Speed Country                Date                  Hotel Name  \n",
       "83         2.08      OM 2020-09-29 21:18:25           Orient Apartments  \n",
       "87         8.05      BW 2020-09-29 21:15:17                Enviro Villa  \n",
       "130        3.71      IQ 2020-09-29 21:18:42                Parwar Hotel  \n",
       "146        3.89      PK 2020-09-29 21:18:47                 Ayyaz House  \n",
       "166        8.72      CL 2020-09-29 21:18:55     Humacao Bed & Breakfast  \n",
       "241        7.78      AR 2020-09-29 21:19:28            Hotel San Rafael  \n",
       "380        2.75      SA 2020-09-29 21:20:17           محمد هادي ال فطيح  \n",
       "402        6.85      AU 2020-09-29 21:20:25  Harding River Caravan Park  \n",
       "446        8.39      SY 2020-09-29 21:20:40              none available  "
      ]
     },
     "execution_count": 10,
     "metadata": {},
     "output_type": "execute_result"
    }
   ],
   "source": [
    "# Set parameters to search for hotels with 5000 meters.\n",
    "radius = 5000\n",
    "\n",
    "# Use Google Places API for each city's coordinates.\n",
    "base_url_nearby = \"https://maps.googleapis.com/maps/api/place/nearbysearch/json\"\n",
    "\n",
    "# Store the first Hotel result into the DataFrame.\n",
    "params = {\n",
    "    \"types\": \"lodging\",\n",
    "    \"radius\": radius,\n",
    "    \"key\": g_key}\n",
    "\n",
    "for index,row in hotel_df.iterrows():\n",
    "    lat=row[\"Latitude\"]\n",
    "    lng=row[\"Longitude\"]\n",
    "    params[\"location\"]=f\"{lat},{lng}\"\n",
    "    \n",
    "# RUN REQUEST\n",
    "    response = requests.get(base_url_nearby, params)\n",
    "# TEST RESULTS\n",
    "    results = response.json()\n",
    "# PRINT RESULTS\n",
    "    try:\n",
    "     # record the hotel name\n",
    "        hotel_df['Hotel Name'][index] = results[\"results\"][0][\"name\"]\n",
    "    except IndexError:\n",
    "        print(f\"No hotels available near {hotel_df['City'][index]}.\\n\")\n",
    "        hotel_df['Hotel Name'][index] = \"none available\"\n",
    "hotel_df"
   ]
  },
  {
   "cell_type": "code",
   "execution_count": 11,
   "metadata": {},
   "outputs": [],
   "source": [
    "# Using the template provided, add the hotel marks to the heatmap\n",
    "info_box_template = \"\"\"\n",
    "<dl>\n",
    "<dt>Name</dt><dd>{Hotel Name}</dd>\n",
    "<dt>City</dt><dd>{City}</dd>\n",
    "<dt>Country</dt><dd>{Country}</dd>\n",
    "</dl>\n",
    "\"\"\"\n",
    "hotel_info = [info_box_template.format(**row) for index, row in hotel_df.iterrows()]\n",
    "locations = hotel_df[[\"Latitude\", \"Longitude\"]]"
   ]
  },
  {
   "cell_type": "code",
   "execution_count": 12,
   "metadata": {},
   "outputs": [
    {
     "data": {
      "application/vnd.jupyter.widget-view+json": {
       "model_id": "de4fc79a0b424ed1ab19d06cafe4247d",
       "version_major": 2,
       "version_minor": 0
      },
      "text/plain": [
       "Figure(layout=FigureLayout(height='420px'))"
      ]
     },
     "metadata": {},
     "output_type": "display_data"
    }
   ],
   "source": [
    "# Plot markers on top of the heatmap.\n",
    "new_map = gmaps.marker_layer(locations, info_box_content = hotel_info)\n",
    "fig.add_layer(new_map)\n",
    "fig"
   ]
  }
 ],
 "metadata": {
  "kernelspec": {
   "display_name": "Python 3",
   "language": "python",
   "name": "python3"
  },
  "language_info": {
   "codemirror_mode": {
    "name": "ipython",
    "version": 3
   },
   "file_extension": ".py",
   "mimetype": "text/x-python",
   "name": "python",
   "nbconvert_exporter": "python",
   "pygments_lexer": "ipython3",
   "version": "3.7.4"
  },
  "latex_envs": {
   "LaTeX_envs_menu_present": true,
   "autoclose": false,
   "autocomplete": true,
   "bibliofile": "biblio.bib",
   "cite_by": "apalike",
   "current_citInitial": 1,
   "eqLabelWithNumbers": true,
   "eqNumInitial": 1,
   "hotkeys": {
    "equation": "Ctrl-E",
    "itemize": "Ctrl-I"
   },
   "labels_anchors": false,
   "latex_user_defs": false,
   "report_style_numbering": false,
   "user_envs_cfg": false
  }
 },
 "nbformat": 4,
 "nbformat_minor": 4
}
