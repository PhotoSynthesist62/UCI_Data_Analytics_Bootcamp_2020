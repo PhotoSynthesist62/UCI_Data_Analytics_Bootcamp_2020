{
 "cells": [
  {
   "cell_type": "markdown",
   "metadata": {},
   "source": [
    "# WeatherPy\n",
    "----\n",
    "\n",
    "#### Note\n",
    "* Instructions have been included for each segment. You do not have to follow them exactly, but they are included to help you think through the steps."
   ]
  },
  {
   "cell_type": "code",
   "execution_count": 1,
   "metadata": {
    "scrolled": true
   },
   "outputs": [
    {
     "ename": "ModuleNotFoundError",
     "evalue": "No module named 'api_keys'",
     "output_type": "error",
     "traceback": [
      "\u001b[1;31m---------------------------------------------------------------------------\u001b[0m",
      "\u001b[1;31mModuleNotFoundError\u001b[0m                       Traceback (most recent call last)",
      "\u001b[1;32m<ipython-input-1-8a32eedbc087>\u001b[0m in \u001b[0;36m<module>\u001b[1;34m\u001b[0m\n\u001b[0;32m     11\u001b[0m \u001b[1;33m\u001b[0m\u001b[0m\n\u001b[0;32m     12\u001b[0m \u001b[1;31m# Import API key\u001b[0m\u001b[1;33m\u001b[0m\u001b[1;33m\u001b[0m\u001b[1;33m\u001b[0m\u001b[0m\n\u001b[1;32m---> 13\u001b[1;33m \u001b[1;32mfrom\u001b[0m \u001b[0mapi_keys\u001b[0m \u001b[1;32mimport\u001b[0m \u001b[0mweather_api_key2\u001b[0m\u001b[1;33m\u001b[0m\u001b[1;33m\u001b[0m\u001b[0m\n\u001b[0m\u001b[0;32m     14\u001b[0m \u001b[1;33m\u001b[0m\u001b[0m\n\u001b[0;32m     15\u001b[0m \u001b[1;31m# Incorporated citipy to determine city based on latitude and longitude\u001b[0m\u001b[1;33m\u001b[0m\u001b[1;33m\u001b[0m\u001b[1;33m\u001b[0m\u001b[0m\n",
      "\u001b[1;31mModuleNotFoundError\u001b[0m: No module named 'api_keys'"
     ]
    }
   ],
   "source": [
    "# Dependencies and Setup\n",
    "import matplotlib.pyplot as plt\n",
    "import pandas as pd\n",
    "import numpy as np\n",
    "import requests\n",
    "import time\n",
    "import pprint\n",
    "from scipy.stats import linregress\n",
    "import scipy.stats as st\n",
    "import datetime as dt     \n",
    "\n",
    "# Import API key\n",
    "from api_keys import weather_api_key2\n",
    "\n",
    "# Incorporated citipy to determine city based on latitude and longitude\n",
    "from citipy import citipy\n",
    "\n",
    "# Output File (CSV)\n",
    "output_data_file = \"output_data/cities.csv\"\n",
    "\n",
    "# Range of latitudes and longitudes\n",
    "lat_range = (-90, 90)\n",
    "lng_range = (-180, 180)"
   ]
  },
  {
   "cell_type": "markdown",
   "metadata": {},
   "source": [
    "## Generate Cities List"
   ]
  },
  {
   "cell_type": "code",
   "execution_count": null,
   "metadata": {},
   "outputs": [],
   "source": [
    "# List for holding lat_lngs and cities\n",
    "lat_lngs = []\n",
    "cities = []\n",
    "\n",
    "# Create a set of random lat and lng combinations\n",
    "lats = np.random.uniform(lat_range[0], lat_range[1], size=1500)\n",
    "lngs = np.random.uniform(lng_range[0], lng_range[1], size=1500)\n",
    "lat_lngs = zip(lats, lngs)\n",
    "\n",
    "# Identify nearest city for each lat, lng combination\n",
    "for lat_lng in lat_lngs:\n",
    "    city = citipy.nearest_city(lat_lng[0], lat_lng[1]).city_name\n",
    "    \n",
    "    # If the city is unique, then add it to our cities list\n",
    "    if city not in cities:\n",
    "        cities.append(city)\n",
    "\n",
    "# Print the city count to confirm sufficient count\n",
    "len(cities)"
   ]
  },
  {
   "cell_type": "markdown",
   "metadata": {},
   "source": [
    "### Perform API Calls\n",
    "* Perform a weather check on each city using a series of successive API calls.\n",
    "* Include a print log of each city as it's being processed (with the city number and city name).\n"
   ]
  },
  {
   "cell_type": "code",
   "execution_count": null,
   "metadata": {
    "scrolled": true
   },
   "outputs": [],
   "source": [
    "url = \"http://api.openweathermap.org/data/2.5/weather?units=imperial\"\n",
    "\n",
    "query_url = f\"{url}&appid={weather_api_key2}&q=\"\n",
    "\n",
    "city_name = []\n",
    "lat = []\n",
    "lng = []\n",
    "max_temp = []\n",
    "hum = []\n",
    "cloud = []\n",
    "wind_spd = []\n",
    "country = []\n",
    "date = []\n",
    "\n",
    "#create counter\n",
    "city_count = 1\n",
    "set_count = 1\n",
    "\n",
    "for i, city in enumerate(cities):\n",
    "    if (i %50 == 0 and i >= 50):\n",
    "        set_count = set_count + 1\n",
    "        city_count = 0\n",
    "        city_count +=1\n",
    "    #city_url = query_url + \"&q=\" + city\n",
    "    print(\"Processing record %s of Set %s | %s\" % (city_count, set_count, city))\n",
    "    \n",
    "#   parameters = {\"q\":city,\n",
    "#                \"units\":\"imperial\",\n",
    "#              \"appid\": weather_api_key2}\n",
    "    try:\n",
    "        city_data = requests.get(query_url+city)\n",
    "        response_json = city_data.json()\n",
    "        city_name.append(response_json[\"name\"])\n",
    "        lat.append(response_json[\"coord\"][\"lat\"])\n",
    "        lng.append(response_json[\"coord\"][\"lon\"])\n",
    "        max_temp.append(response_json[\"main\"][\"temp_max\"])\n",
    "        hum.append(response_json[\"main\"][\"humidity\"])\n",
    "        cloud.append(response_json[\"clouds\"][\"all\"])\n",
    "        wind_spd.append(response_json[\"wind\"][\"speed\"])\n",
    "        country.append(response_json[\"sys\"][\"country\"])\n",
    "        date.append(response_json[\"dt\"])\n",
    "\n",
    "    except:\n",
    "        print(\"City not found. Skipping...\")\n",
    "\n",
    "print(\"-------Complete--------\")"
   ]
  },
  {
   "cell_type": "markdown",
   "metadata": {},
   "source": [
    "### Convert Raw Data to DataFrame\n",
    "* Export the city data into a .csv.\n",
    "* Display the DataFrame"
   ]
  },
  {
   "cell_type": "code",
   "execution_count": null,
   "metadata": {},
   "outputs": [],
   "source": [
    "# create a data frame from cities, lat, and temp\n",
    "weather_data = pd.DataFrame({\"City\": city_name,\n",
    "                             \"Latitude\": lat,\n",
    "                             \"Longitude\": lng,\n",
    "                             \"Max Temp\": max_temp,\n",
    "                             \"Humidity\": hum,\n",
    "                             \"Cloudiness\": cloud,\n",
    "                             \"Wind Speed\": wind_spd,\n",
    "                             \"Country\": country,\n",
    "                             \"Date\": date})\n",
    "weather_data.head()"
   ]
  },
  {
   "cell_type": "markdown",
   "metadata": {},
   "source": [
    "## Inspect the data and remove the cities where the humidity > 100%.\n",
    "----\n",
    "Skip this step if there are no cities that have humidity > 100%. "
   ]
  },
  {
   "cell_type": "code",
   "execution_count": null,
   "metadata": {},
   "outputs": [],
   "source": [
    "#  Get the indices of cities that have humidity over 100%.\n",
    "humid_cities = weather_data.loc[weather_data['Humidity'] > 100]\n",
    "humid_cities"
   ]
  },
  {
   "cell_type": "code",
   "execution_count": null,
   "metadata": {},
   "outputs": [],
   "source": [
    "# Export the City_Data into a csv\n",
    "weather_data.to_csv('../output_data/output_cities_AR.csv',sep=',', header=True, index=False)"
   ]
  },
  {
   "cell_type": "markdown",
   "metadata": {},
   "source": [
    "## Plotting the Data\n",
    "* Use proper labeling of the plots using plot titles (including date of analysis) and axes labels.\n",
    "* Save the plotted figures as .pngs."
   ]
  },
  {
   "cell_type": "markdown",
   "metadata": {},
   "source": [
    "## Latitude vs. Temperature Plot"
   ]
  },
  {
   "cell_type": "code",
   "execution_count": null,
   "metadata": {
    "scrolled": true
   },
   "outputs": [],
   "source": [
    "# Create a Scatter Plot for lat v temp\n",
    "x_temp = weather_data['Max Temp']\n",
    "y_temp = weather_data['Latitude']\n",
    "plt.scatter(x_temp, y_temp, c= 'yellow', edgecolor='orange')\n",
    "plt.xlabel('Temperature')\n",
    "plt.ylabel('Latitude')\n",
    "date = dt.date.today()\n",
    "plt.title(\"City Latitude v. Max Temperature   \" + str(date))\n",
    "plt.show()"
   ]
  },
  {
   "cell_type": "markdown",
   "metadata": {},
   "source": [
    "## Latitude vs. Humidity Plot"
   ]
  },
  {
   "cell_type": "code",
   "execution_count": null,
   "metadata": {},
   "outputs": [],
   "source": [
    "# Create a Scatter Plot for lat v humidity\n",
    "x_hum = weather_data['Humidity']\n",
    "y_hum = weather_data['Latitude']\n",
    "plt.scatter(x_hum,y_hum, color='lightblue', edgecolors='b')\n",
    "plt.xlabel('Humidity')\n",
    "plt.ylabel('Latitude')\n",
    "plt.title(\"City Latitude v. Humidity   \" + str(date))\n",
    "plt.show()"
   ]
  },
  {
   "cell_type": "markdown",
   "metadata": {},
   "source": [
    "## Latitude vs. Cloudiness Plot"
   ]
  },
  {
   "cell_type": "code",
   "execution_count": null,
   "metadata": {},
   "outputs": [],
   "source": [
    "# Create a Scatter Plot for lat v cloudiness\n",
    "x_cloud = weather_data['Cloudiness']\n",
    "y_cloud = weather_data['Latitude']\n",
    "plt.scatter(x_cloud, y_cloud, color='lightgrey', edgecolors='black')\n",
    "plt.xlabel('Cloudiness')\n",
    "plt.ylabel('Latitude')\n",
    "plt.title(\"City Latitude v. Cloudiness   \" + str(date))\n",
    "plt.show()"
   ]
  },
  {
   "cell_type": "markdown",
   "metadata": {},
   "source": [
    "## Latitude vs. Wind Speed Plot"
   ]
  },
  {
   "cell_type": "code",
   "execution_count": null,
   "metadata": {},
   "outputs": [],
   "source": [
    "# Create a Scatter Plot for lat v wind speed\n",
    "x_wind = weather_data['Wind Speed']\n",
    "y_wind = weather_data['Latitude']\n",
    "plt.scatter(x_wind,y_wind, c = 'white', edgecolor = 'gray')\n",
    "plt.xlabel('Wind Speed')\n",
    "plt.ylabel('Latitude')\n",
    "plt.title(\"City Latitude v. Wind Speed   \" + str(date))\n",
    "plt.show()"
   ]
  },
  {
   "cell_type": "markdown",
   "metadata": {},
   "source": [
    "## Linear Regression"
   ]
  },
  {
   "cell_type": "code",
   "execution_count": null,
   "metadata": {},
   "outputs": [],
   "source": [
    "# OPTIONAL: Create a function to create Linear Regression plots"
   ]
  },
  {
   "cell_type": "code",
   "execution_count": null,
   "metadata": {},
   "outputs": [],
   "source": [
    "# Create Northern and Southern Hemisphere DataFrames\n",
    "no_hem = weather_data.loc[weather_data['Latitude'] > 0]"
   ]
  },
  {
   "cell_type": "code",
   "execution_count": null,
   "metadata": {},
   "outputs": [],
   "source": [
    "so_hem = weather_data.loc[weather_data['Latitude'] < 0]"
   ]
  },
  {
   "cell_type": "markdown",
   "metadata": {},
   "source": [
    "####  Northern Hemisphere - Max Temp vs. Latitude Linear Regression"
   ]
  },
  {
   "cell_type": "code",
   "execution_count": null,
   "metadata": {
    "scrolled": true
   },
   "outputs": [],
   "source": [
    "n_x_temp = no_hem['Max Temp']\n",
    "n_y_temp = no_hem['Latitude']\n",
    "\n",
    "(slope, intercept, rvalue, pvalue, stderr) = linregress(n_x_temp, n_y_temp)\n",
    "regress_values = n_x_temp * slope + intercept\n",
    "line_eq = \"y = \" + str(round(slope,2)) + \"x + \" + str(round(intercept,2))\n",
    "\n",
    "print(f\"The r-squared is: {rvalue**2}\")\n",
    "plt.scatter(n_x_temp, n_y_temp, c = 'yellow', edgecolor = 'orange')\n",
    "plt.plot(n_x_temp,regress_values,\"r-\")\n",
    "plt.annotate(line_eq, (10,10), fontsize = 15, color = 'black')\n",
    "plt.xlabel('Temperature')\n",
    "plt.ylabel('Latitude')\n",
    "plt.title(\"N. Hemisphere City Latitude v. Temperature   \" + str(date))"
   ]
  },
  {
   "cell_type": "markdown",
   "metadata": {},
   "source": [
    "####  Southern Hemisphere - Max Temp vs. Latitude Linear Regression"
   ]
  },
  {
   "cell_type": "code",
   "execution_count": null,
   "metadata": {},
   "outputs": [],
   "source": [
    "s_x_temp = so_hem['Max Temp']\n",
    "s_y_temp = so_hem['Latitude']\n",
    "\n",
    "(slope, intercept, rvalue, pvalue, stderr) = linregress(s_x_temp, s_y_temp)\n",
    "regress_values = s_x_temp * slope + intercept\n",
    "line_eq = \"y = \" + str(round(slope,2)) + \"x + \" + str(round(intercept,2))\n",
    "\n",
    "print(f\"The r-squared is: {rvalue**2}\")\n",
    "plt.scatter(s_x_temp, s_y_temp, c = 'yellow', edgecolor = 'red')\n",
    "plt.plot(s_x_temp,regress_values,\"r-\")\n",
    "plt.annotate(line_eq, (70,-50), fontsize = 15, color='black')\n",
    "plt.xlabel('Temperature')\n",
    "plt.ylabel('Latitude')\n",
    "plt.title(\"S. Hemisphere City Latitude v. Temperature   \" + str(date))"
   ]
  },
  {
   "cell_type": "markdown",
   "metadata": {},
   "source": [
    "####  Northern Hemisphere - Humidity (%) vs. Latitude Linear Regression"
   ]
  },
  {
   "cell_type": "code",
   "execution_count": null,
   "metadata": {},
   "outputs": [],
   "source": [
    "n_x_hum = no_hem['Humidity']\n",
    "n_y_hum = no_hem['Latitude']\n",
    "\n",
    "(slope, intercept, rvalue, pvalue, stderr) = linregress(n_x_hum, n_y_hum)\n",
    "regress_values = n_x_hum * slope + intercept\n",
    "line_eq = \"y = \" + str(round(slope,2)) + \"x + \" + str(round(intercept,2))\n",
    "\n",
    "print(f\"The r-squared is: {rvalue**2}\")\n",
    "plt.scatter(n_x_hum,n_y_hum, color='lightblue', edgecolors='b')\n",
    "plt.plot(n_x_hum,regress_values,\"r-\")\n",
    "plt.annotate(line_eq, (5,72), fontsize = 15, color = 'black')\n",
    "plt.xlabel('Humidity')\n",
    "plt.ylabel('Latitude')\n",
    "plt.title(\"N. Hemisphere City Latitude v. Humidity   \" + str(date))"
   ]
  },
  {
   "cell_type": "markdown",
   "metadata": {},
   "source": [
    "####  Southern Hemisphere - Humidity (%) vs. Latitude Linear Regression"
   ]
  },
  {
   "cell_type": "code",
   "execution_count": null,
   "metadata": {},
   "outputs": [],
   "source": [
    "s_x_hum = so_hem['Humidity']\n",
    "s_y_hum = so_hem['Latitude']\n",
    "\n",
    "(slope, intercept, rvalue, pvalue, stderr) = linregress(s_x_hum, s_y_hum)\n",
    "regress_values = s_x_hum * slope + intercept\n",
    "line_eq = \"y = \" + str(round(slope,2)) + \"x + \" + str(round(intercept,2))\n",
    "\n",
    "print(f\"The r-squared is: {rvalue**2}\")\n",
    "plt.scatter(s_x_hum,s_y_hum, color='lightblue', edgecolors='darkblue')\n",
    "plt.plot(s_x_hum,regress_values,\"r-\")\n",
    "plt.annotate(line_eq, (10,-55), fontsize = 15, color = 'black')\n",
    "plt.xlabel('Humidity')\n",
    "plt.ylabel('Latitude')\n",
    "plt.title(\"S. Hemisphere City Latitude v. Humidity   \" + str(date))"
   ]
  },
  {
   "cell_type": "markdown",
   "metadata": {},
   "source": [
    "####  Northern Hemisphere - Cloudiness (%) vs. Latitude Linear Regression"
   ]
  },
  {
   "cell_type": "code",
   "execution_count": null,
   "metadata": {},
   "outputs": [],
   "source": [
    "n_x_cloud = no_hem['Cloudiness']\n",
    "n_y_cloud = no_hem['Latitude']\n",
    "\n",
    "(slope, intercept, rvalue, pvalue, stderr) = linregress(n_x_cloud, n_y_cloud)\n",
    "regress_values = n_x_cloud * slope + intercept\n",
    "line_eq = \"y = \" + str(round(slope,2)) + \"x + \" + str(round(intercept,2))\n",
    "\n",
    "print(f\"The r-squared is: {rvalue**2}\")\n",
    "plt.scatter(n_x_cloud,n_y_cloud, color='lightgreen', edgecolors='black')\n",
    "plt.plot(n_x_cloud,regress_values,\"r-\")\n",
    "plt.annotate(line_eq, (30,75), fontsize = 15, color = 'black')\n",
    "plt.xlabel('Cloudiness')\n",
    "plt.ylabel('Latitude')\n",
    "plt.title(\"N. Hemisphere City Latitude v. Cloudiness   \" + str(date))"
   ]
  },
  {
   "cell_type": "markdown",
   "metadata": {},
   "source": [
    "####  Southern Hemisphere - Cloudiness (%) vs. Latitude Linear Regression"
   ]
  },
  {
   "cell_type": "code",
   "execution_count": null,
   "metadata": {},
   "outputs": [],
   "source": [
    "s_x_cloud = so_hem['Cloudiness']\n",
    "s_y_cloud = so_hem['Latitude']\n",
    "\n",
    "(slope, intercept, rvalue, pvalue, stderr) = linregress(s_x_cloud, s_y_cloud)\n",
    "regress_values = s_x_cloud * slope + intercept\n",
    "line_eq = \"y = \" + str(round(slope,2)) + \"x + \" + str(round(intercept,2))\n",
    "\n",
    "print(f\"The r-squared is: {rvalue**2}\")\n",
    "plt.scatter(s_x_cloud, s_y_cloud, color='black', edgecolors='darkgreen')\n",
    "plt.plot(s_x_cloud,regress_values,\"r-\")\n",
    "plt.annotate(line_eq, (0,-55), fontsize = 15, color = 'black')\n",
    "plt.xlabel('Cloudiness')\n",
    "plt.ylabel('Latitude')\n",
    "plt.title(\"S. Hemisphere City Latitude v. Cloudiness   \" + str(date))"
   ]
  },
  {
   "cell_type": "markdown",
   "metadata": {},
   "source": [
    "####  Northern Hemisphere - Wind Speed (mph) vs. Latitude Linear Regression"
   ]
  },
  {
   "cell_type": "code",
   "execution_count": null,
   "metadata": {},
   "outputs": [],
   "source": [
    "n_x_wind = no_hem['Wind Speed']\n",
    "n_y_wind = no_hem['Latitude']\n",
    "\n",
    "(slope, intercept, rvalue, pvalue, stderr) = linregress(n_x_wind, n_y_wind)\n",
    "regress_values = n_x_wind * slope + intercept\n",
    "line_eq = \"y = \" + str(round(slope,2)) + \"x + \" + str(round(intercept,2))\n",
    "\n",
    "print(f\"The r-squared is: {rvalue**2}\")\n",
    "plt.scatter(n_x_wind, n_y_wind, color='purple', edgecolors='gray')\n",
    "plt.plot(n_x_wind,regress_values,\"r-\")\n",
    "plt.annotate(line_eq, (14,75), fontsize = 15, color = 'black')\n",
    "plt.xlabel('Wind Speed (mph)')\n",
    "plt.ylabel('Latitude')\n",
    "plt.title(\"N. Hemisphere City Latitude v. Wind Speed (mph)   \" + str(date))"
   ]
  },
  {
   "cell_type": "markdown",
   "metadata": {},
   "source": [
    "####  Southern Hemisphere - Wind Speed (mph) vs. Latitude Linear Regression"
   ]
  },
  {
   "cell_type": "code",
   "execution_count": null,
   "metadata": {},
   "outputs": [],
   "source": [
    "s_x_wind = so_hem['Wind Speed']\n",
    "s_y_wind = so_hem['Latitude']\n",
    "\n",
    "(slope, intercept, rvalue, pvalue, stderr) = linregress(s_x_wind, s_y_wind)\n",
    "regress_values = s_x_wind * slope + intercept\n",
    "line_eq = \"y = \" + str(round(slope,2)) + \"x + \" + str(round(intercept,2))\n",
    "\n",
    "print(f\"The r-squared is: {rvalue**2}\")\n",
    "plt.scatter(s_x_wind, s_y_wind, color='gray', edgecolors='purple')\n",
    "plt.plot(s_x_wind,regress_values,\"r-\")\n",
    "plt.annotate(line_eq, (15, -32), fontsize = 15, color = 'black')\n",
    "plt.xlabel('Wind Speed (mph)')\n",
    "plt.ylabel('Latitude')\n",
    "plt.title(\"S. Hemisphere City Latitude v. Wind Speed (mph)   \" + str(date))"
   ]
  },
  {
   "cell_type": "code",
   "execution_count": null,
   "metadata": {},
   "outputs": [],
   "source": []
  }
 ],
 "metadata": {
  "anaconda-cloud": {},
  "kernel_info": {
   "name": "python3"
  },
  "kernelspec": {
   "display_name": "Python 3",
   "language": "python",
   "name": "python3"
  },
  "language_info": {
   "codemirror_mode": {
    "name": "ipython",
    "version": 3
   },
   "file_extension": ".py",
   "mimetype": "text/x-python",
   "name": "python",
   "nbconvert_exporter": "python",
   "pygments_lexer": "ipython3",
   "version": "3.7.4"
  },
  "latex_envs": {
   "LaTeX_envs_menu_present": true,
   "autoclose": false,
   "autocomplete": true,
   "bibliofile": "biblio.bib",
   "cite_by": "apalike",
   "current_citInitial": 1,
   "eqLabelWithNumbers": true,
   "eqNumInitial": 1,
   "hotkeys": {
    "equation": "Ctrl-E",
    "itemize": "Ctrl-I"
   },
   "labels_anchors": false,
   "latex_user_defs": false,
   "report_style_numbering": false,
   "user_envs_cfg": false
  },
  "nteract": {
   "version": "0.12.3"
  }
 },
 "nbformat": 4,
 "nbformat_minor": 2
}
