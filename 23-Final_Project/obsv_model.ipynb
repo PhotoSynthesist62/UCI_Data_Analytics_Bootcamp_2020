{
 "cells": [
  {
   "cell_type": "markdown",
   "metadata": {},
   "source": [
    "### Data\n",
    "##### Source\n",
    "Sloan Digital Sky Survey DR14: Classification of Stars, Galaxies and Quasar: <br>\n",
    "https://www.kaggle.com/lucidlenn/sloan-digital-sky-survey\n",
    "\n",
    "##### Description\n",
    "10,000 observations of space taken by the Sloan Digital Sky Survey (SDSS). Data set includes 17 feature columns and 1 class column.  Class column (label) identifies whether object observed is a galaxy, quasar or star. \n",
    "\n",
    "##### Variables/Columns\n",
    " objid = Object Identifier (PhotoObj table) [unique-drop]<br>\n",
    " ra = Right Ascension (PhotoObj table) [numerical]<br>\n",
    " dec = Declination (PhotoObj table) [numerical]<br>\n",
    " u, g, r, i, z = 5 bands of the telescope (per the Gunn-Thuan griz astronomical magnitude system) [numerical]<br>\n",
    " run = Run Number identifies the specific scan [categorical-23]<br>\n",
    " rerun = specifies how image was processed [unique-drop]<br>\n",
    " camcol = Camera Column (1 - 6) identifies scanline w/in the Run [categorical-6]<br>\n",
    " field = Field Number ~ starts at 11 (after an init'l rampup time) & can be as large as 800 for longer runs [categorical-703]<br>\n",
    " specobjid = Object Identifier [categorical-6349]<br>\n",
    " class = Object Class [Classification Labels/categorical-3]<br>\n",
    " redshift = Final Redshift [categorical-9637]<br>\n",
    " plate = Round AL plates at positions of objects of interest through which holes are drilled to  pass optical fiber [categorical-487]<br>\n",
    " mjd = Modified Julian Date (of Observation) [categorical-355]<br>\n",
    " fiberid = Optical Fiber ID  [categorical-892]"
   ]
  },
  {
   "cell_type": "markdown",
   "metadata": {},
   "source": [
    "### Load CSV Data/Dependencies"
   ]
  },
  {
   "cell_type": "code",
   "execution_count": 1,
   "metadata": {},
   "outputs": [],
   "source": [
    "%matplotlib inline\n",
    "import matplotlib.pyplot as plt\n",
    "import numpy as np\n",
    "import pandas as pd\n",
    "import warnings\n",
    "warnings.simplefilter('ignore')\n",
    "from sklearn import tree\n",
    "from sklearn import metrics\n",
    "\n",
    "from sklearn.preprocessing import LabelEncoder\n",
    "from sklearn.preprocessing import StandardScaler\n",
    "from sklearn.linear_model import LogisticRegression\n",
    "from sklearn.model_selection import train_test_split\n",
    "from sklearn.model_selection import cross_validate\n",
    "from sklearn.metrics import accuracy_score\n",
    "from sklearn.metrics import classification_report\n",
    "from sklearn.ensemble import RandomForestClassifier\n",
    "from sklearn.neighbors import KNeighborsClassifier\n",
    "\n",
    "import xgboost\n",
    "from ipywidgets import *\n",
    "from sklearn.svm import SVC"
   ]
  },
  {
   "cell_type": "code",
   "execution_count": 2,
   "metadata": {},
   "outputs": [],
   "source": [
    "obsrv = pd.read_csv('./data/Skyserver_SQL2_27_2018 6_51_39 PM.csv')"
   ]
  },
  {
   "cell_type": "markdown",
   "metadata": {},
   "source": [
    "### Review/Clean Data \n",
    "re: obsv_model_InitDataAnalysis.ipynb for initial data review."
   ]
  },
  {
   "cell_type": "code",
   "execution_count": 3,
   "metadata": {},
   "outputs": [],
   "source": [
    "df1 = pd.DataFrame(obsrv, columns=['ra','dec','u','g','r','i','z','class', 'redshift'])"
   ]
  },
  {
   "cell_type": "markdown",
   "metadata": {},
   "source": [
    "### Train_Test_Split"
   ]
  },
  {
   "cell_type": "code",
   "execution_count": 4,
   "metadata": {},
   "outputs": [],
   "source": [
    "target = df1['class']\n",
    "target_names = ['GALAXY','QSO','STAR']"
   ]
  },
  {
   "cell_type": "code",
   "execution_count": 5,
   "metadata": {},
   "outputs": [],
   "source": [
    "data = df1.drop(\"class\", axis=1)\n",
    "feature_names = data.columns"
   ]
  },
  {
   "cell_type": "code",
   "execution_count": 6,
   "metadata": {},
   "outputs": [
    {
     "name": "stdout",
     "output_type": "stream",
     "text": [
      "(7000, 8) (7000,) (3000, 8) (3000,)\n"
     ]
    }
   ],
   "source": [
    "X_train, X_test, y_train, y_test = train_test_split(data, target,test_size=.3)\n",
    "print(X_train.shape, y_train.shape,X_test.shape, y_test.shape)"
   ]
  },
  {
   "cell_type": "markdown",
   "metadata": {},
   "source": [
    "#### Decision Tree"
   ]
  },
  {
   "cell_type": "code",
   "execution_count": 7,
   "metadata": {},
   "outputs": [
    {
     "name": "stdout",
     "output_type": "stream",
     "text": [
      "Decision Tree Classifier Score: 98.63%\n"
     ]
    }
   ],
   "source": [
    "# SVM linear classifier\n",
    "dt_model = tree.DecisionTreeClassifier()\n",
    "dt_model = dt_model.fit(X_train, y_train)\n",
    "dtf_score = dt_model.score(X_test, y_test)\n",
    "print(\"Decision Tree Classifier Score: %.2f%%\" % (dtf_score*100))"
   ]
  },
  {
   "cell_type": "code",
   "execution_count": 8,
   "metadata": {},
   "outputs": [
    {
     "name": "stdout",
     "output_type": "stream",
     "text": [
      "DT Feature: 0.1805%\n",
      "DT Feature: 0.1441%\n",
      "DT Feature: 0.7385%\n",
      "DT Feature: 0.6789%\n",
      "DT Feature: 0.0418%\n",
      "DT Feature: 0.2566%\n",
      "DT Feature: 0.2755%\n",
      "DT Feature: 97.6840%\n"
     ]
    }
   ],
   "source": [
    "# summarize feature importance\n",
    "dt_import = dt_model.feature_importances_\n",
    "for dt_feature in dt_import:\n",
    "    print(\"DT Feature: %.4f%%\" % (dt_feature*100))"
   ]
  },
  {
   "cell_type": "code",
   "execution_count": 9,
   "metadata": {},
   "outputs": [
    {
     "data": {
      "text/plain": [
       "[(0.9768401120925667, 'redshift'),\n",
       " (0.00738460933089263, 'u'),\n",
       " (0.006788972974322399, 'g'),\n",
       " (0.002755318928113594, 'z'),\n",
       " (0.002566272250008904, 'i'),\n",
       " (0.0018051035657665733, 'ra'),\n",
       " (0.0014413502302850476, 'dec'),\n",
       " (0.00041826062804438483, 'r')]"
      ]
     },
     "execution_count": 9,
     "metadata": {},
     "output_type": "execute_result"
    }
   ],
   "source": [
    "dt_zip = sorted(zip(dt_import, feature_names), reverse=True)\n",
    "dt_zip"
   ]
  },
  {
   "cell_type": "code",
   "execution_count": 10,
   "metadata": {},
   "outputs": [
    {
     "data": {
      "image/png": "[encoded data removed]",
      "text/plain": [
       "<Figure size 432x288 with 1 Axes>"
      ]
     },
     "metadata": {
      "needs_background": "light"
     },
     "output_type": "display_data"
    }
   ],
   "source": [
    "# plot feature importance\n",
    "plt.bar([x for x in range(len(dt_import))], dt_import)\n",
    "plt.show()"
   ]
  },
  {
   "cell_type": "markdown",
   "metadata": {},
   "source": [
    "Redshift is the most significant feature."
   ]
  },
  {
   "cell_type": "markdown",
   "metadata": {},
   "source": [
    "#### Random Forest"
   ]
  },
  {
   "cell_type": "code",
   "execution_count": 11,
   "metadata": {},
   "outputs": [
    {
     "name": "stdout",
     "output_type": "stream",
     "text": [
      "Random Forest Classifier Score: 97.83%\n"
     ]
    }
   ],
   "source": [
    "rfc_model = RandomForestClassifier(n_estimators=500, max_depth=3)\n",
    "rfc_model = rfc_model.fit(X_train, y_train)\n",
    "rfc_score = rfc_model.score(X_test, y_test)\n",
    "print(\"Random Forest Classifier Score: %.2f%%\" % (rfc_score*100))"
   ]
  },
  {
   "cell_type": "code",
   "execution_count": 12,
   "metadata": {},
   "outputs": [
    {
     "name": "stdout",
     "output_type": "stream",
     "text": [
      "Feature: 0.320%\n",
      "Feature: 0.143%\n",
      "Feature: 7.578%\n",
      "Feature: 8.443%\n",
      "Feature: 7.810%\n",
      "Feature: 10.674%\n",
      "Feature: 11.081%\n",
      "Feature: 53.951%\n"
     ]
    }
   ],
   "source": [
    "# summarize feature importance\n",
    "rfc_import = rfc_model.feature_importances_\n",
    "for x in rfc_import:\n",
    "    print(\"Feature: %.3f%%\" % (x*100))"
   ]
  },
  {
   "cell_type": "code",
   "execution_count": 13,
   "metadata": {},
   "outputs": [
    {
     "data": {
      "text/plain": [
       "[(0.5395135964154072, 'redshift'),\n",
       " (0.11080676003222927, 'z'),\n",
       " (0.10674146064419696, 'i'),\n",
       " (0.08442870403483119, 'g'),\n",
       " (0.0780976425222217, 'r'),\n",
       " (0.07577784031242048, 'u'),\n",
       " (0.0031996015746087888, 'ra'),\n",
       " (0.001434394464084585, 'dec')]"
      ]
     },
     "execution_count": 13,
     "metadata": {},
     "output_type": "execute_result"
    }
   ],
   "source": [
    "rfc_zip = sorted(zip(rfc_import, feature_names), reverse=True)\n",
    "rfc_zip"
   ]
  },
  {
   "cell_type": "code",
   "execution_count": 14,
   "metadata": {},
   "outputs": [
    {
     "data": {
      "image/png": "[encoded data removed]",
      "text/plain": [
       "<Figure size 432x288 with 1 Axes>"
      ]
     },
     "metadata": {
      "needs_background": "light"
     },
     "output_type": "display_data"
    }
   ],
   "source": [
    "# plot feature importance\n",
    "plt.bar([x for x in range(len(rfc_import))], rfc_import)\n",
    "plt.show()"
   ]
  },
  {
   "cell_type": "markdown",
   "metadata": {},
   "source": [
    "Redshift is the most significant feature."
   ]
  },
  {
   "cell_type": "markdown",
   "metadata": {},
   "source": [
    "#### Logistic Regression"
   ]
  },
  {
   "cell_type": "code",
   "execution_count": 15,
   "metadata": {},
   "outputs": [
    {
     "data": {
      "text/plain": [
       "LogisticRegression(max_iter=3000)"
      ]
     },
     "execution_count": 15,
     "metadata": {},
     "output_type": "execute_result"
    }
   ],
   "source": [
    "lr_model = LogisticRegression(max_iter=3000)\n",
    "lr_model.fit(X_train, y_train)"
   ]
  },
  {
   "cell_type": "code",
   "execution_count": 16,
   "metadata": {},
   "outputs": [],
   "source": [
    "y_pred = lr_model.predict(X_test)"
   ]
  },
  {
   "cell_type": "code",
   "execution_count": 17,
   "metadata": {},
   "outputs": [
    {
     "name": "stdout",
     "output_type": "stream",
     "text": [
      "LR Metric Test/Pred Score: 95.53%\n"
     ]
    }
   ],
   "source": [
    "lr_metric = metrics.accuracy_score(y_test, y_pred)\n",
    "print(\"LR Metric Test/Pred Score: %.2f%%\" % (lr_metric*100))"
   ]
  },
  {
   "cell_type": "markdown",
   "metadata": {},
   "source": [
    "#### KNN Model"
   ]
  },
  {
   "cell_type": "code",
   "execution_count": 18,
   "metadata": {},
   "outputs": [
    {
     "name": "stdout",
     "output_type": "stream",
     "text": [
      "[0.759, 0.7283333333333334, 0.7516666666666667, 0.7426666666666667, 0.753, 0.747, 0.7513333333333333, 0.7396666666666667, 0.7393333333333333, 0.738, 0.7356666666666667, 0.7386666666666667, 0.7336666666666667, 0.7286666666666667, 0.7303333333333333, 0.73, 0.727, 0.7263333333333334, 0.73, 0.7276666666666667, 0.7276666666666667, 0.7256666666666667, 0.7246666666666667, 0.724, 0.7236666666666667, 0.722]\n"
     ]
    }
   ],
   "source": [
    "k_range = range(1, 27)\n",
    "\n",
    "k_scores = []\n",
    "\n",
    "for k in k_range:\n",
    "    knn = KNeighborsClassifier(n_neighbors=k)\n",
    "    knn.fit(X_train, y_train)\n",
    "    y_pred = knn.predict(X_test)\n",
    "    k_scores.append(metrics.accuracy_score(y_test, y_pred))\n",
    "\n",
    "print(k_scores)\n",
    "\n",
    "# for x in range(len(k_scores)): \n",
    "#     print(f\"Score: {k_scores[x]:.3f}\")"
   ]
  },
  {
   "cell_type": "code",
   "execution_count": 19,
   "metadata": {},
   "outputs": [
    {
     "data": {
      "text/plain": [
       "Text(0, 0.5, 'Testing Accuracy')"
      ]
     },
     "execution_count": 19,
     "metadata": {},
     "output_type": "execute_result"
    },
    {
     "data": {
      "image/png": "[encoded data removed]",
      "text/plain": [
       "<Figure size 432x288 with 1 Axes>"
      ]
     },
     "metadata": {
      "needs_background": "light"
     },
     "output_type": "display_data"
    }
   ],
   "source": [
    "df1_plot = plt.plot(k_range, k_scores)\n",
    "plt.xlabel('Value of K for KNN')\n",
    "plt.ylabel('Testing Accuracy')"
   ]
  },
  {
   "cell_type": "markdown",
   "metadata": {},
   "source": [
    "Unscaled, k-1 produced the highest test accuracy at 76.97%"
   ]
  },
  {
   "cell_type": "code",
   "execution_count": 20,
   "metadata": {},
   "outputs": [
    {
     "name": "stdout",
     "output_type": "stream",
     "text": [
      "KNN Metric Test/Pred (k-1) Score: 75.90%\n"
     ]
    }
   ],
   "source": [
    "knn = KNeighborsClassifier(n_neighbors=1)\n",
    "knn.fit(X_train, y_train)\n",
    "y_pred = knn.predict(X_test)\n",
    "kn1_metric = metrics.accuracy_score(y_test, y_pred)\n",
    "\n",
    "print(\"KNN Metric Test/Pred (k-1) Score: %.2f%%\" % (kn1_metric*100))"
   ]
  },
  {
   "cell_type": "markdown",
   "metadata": {},
   "source": [
    "##### Preprocessing\n",
    "Standard Scaler"
   ]
  },
  {
   "cell_type": "code",
   "execution_count": 21,
   "metadata": {},
   "outputs": [],
   "source": [
    "X_scaler = StandardScaler().fit(X_train)"
   ]
  },
  {
   "cell_type": "code",
   "execution_count": 22,
   "metadata": {},
   "outputs": [],
   "source": [
    "X_train_scaled = X_scaler.transform(X_train)\n",
    "X_test_scaled = X_scaler.transform(X_test)"
   ]
  },
  {
   "cell_type": "code",
   "execution_count": 23,
   "metadata": {},
   "outputs": [
    {
     "name": "stdout",
     "output_type": "stream",
     "text": [
      "k: 1, Train/Test Score: 1.000/0.908\n",
      "k: 3, Train/Test Score: 0.952/0.895\n",
      "k: 5, Train/Test Score: 0.934/0.894\n",
      "k: 7, Train/Test Score: 0.922/0.883\n",
      "k: 9, Train/Test Score: 0.913/0.878\n",
      "k: 11, Train/Test Score: 0.904/0.875\n",
      "k: 13, Train/Test Score: 0.900/0.869\n",
      "k: 15, Train/Test Score: 0.895/0.868\n",
      "k: 17, Train/Test Score: 0.892/0.866\n",
      "k: 19, Train/Test Score: 0.888/0.860\n"
     ]
    },
    {
     "data": {
      "image/png": "[encoded data removed]",
      "text/plain": [
       "<Figure size 432x288 with 1 Axes>"
      ]
     },
     "metadata": {
      "needs_background": "light"
     },
     "output_type": "display_data"
    }
   ],
   "source": [
    "train_scores = []\n",
    "test_scores = []\n",
    "for k in range(1, 20, 2):\n",
    "    knn = KNeighborsClassifier(n_neighbors=k)\n",
    "    knn.fit(X_train_scaled, y_train)\n",
    "    train_score = knn.score(X_train_scaled, y_train)\n",
    "    test_score = knn.score(X_test_scaled, y_test)\n",
    "    train_scores.append(train_score)\n",
    "    test_scores.append(test_score)\n",
    "    print(f\"k: {k}, Train/Test Score: {train_score:.3f}/{test_score:.3f}\")\n",
    "    \n",
    "plt.plot(range(1, 20, 2), train_scores, marker='o')\n",
    "plt.plot(range(1, 20, 2), test_scores, marker=\"x\")\n",
    "plt.xlabel(\"K-Neighbors\")\n",
    "plt.ylabel(\"Testing Accuracy Score\")\n",
    "plt.show()"
   ]
  },
  {
   "cell_type": "markdown",
   "metadata": {},
   "source": [
    "#### SVC Model"
   ]
  },
  {
   "cell_type": "code",
   "execution_count": 24,
   "metadata": {},
   "outputs": [
    {
     "data": {
      "text/plain": [
       "SVC(C=2.2, degree=10, kernel='poly')"
      ]
     },
     "execution_count": 24,
     "metadata": {},
     "output_type": "execute_result"
    }
   ],
   "source": [
    "# Support vector machine linear classifier\n",
    "svc_model = SVC(kernel='poly', C=2.2, degree=10)\n",
    "svc_model.fit(X_train, y_train)"
   ]
  },
  {
   "cell_type": "code",
   "execution_count": 25,
   "metadata": {},
   "outputs": [
    {
     "name": "stdout",
     "output_type": "stream",
     "text": [
      "SVC Test Accuracy: 70.87%\n"
     ]
    }
   ],
   "source": [
    "# Model Accuracy\n",
    "svc_metric = svc_model.score(X_test, y_test)\n",
    "print(\"SVC Test Accuracy: %.2f%%\" % (svc_metric*100))"
   ]
  },
  {
   "cell_type": "code",
   "execution_count": 26,
   "metadata": {},
   "outputs": [
    {
     "name": "stdout",
     "output_type": "stream",
     "text": [
      "              precision    recall  f1-score   support\n",
      "\n",
      "      GALAXY       0.63      0.95      0.76      1462\n",
      "         QSO       0.99      0.58      0.73       259\n",
      "        STAR       0.90      0.46      0.60      1279\n",
      "\n",
      "    accuracy                           0.71      3000\n",
      "   macro avg       0.84      0.66      0.70      3000\n",
      "weighted avg       0.78      0.71      0.69      3000\n",
      "\n"
     ]
    }
   ],
   "source": [
    "# Calculate classification report\n",
    "predictions = svc_model.predict(X_test)\n",
    "print(classification_report(y_test, predictions,\n",
    "                            target_names=target_names))"
   ]
  },
  {
   "cell_type": "markdown",
   "metadata": {},
   "source": [
    "#### XGBoost"
   ]
  },
  {
   "cell_type": "markdown",
   "metadata": {},
   "source": [
    "##### Preprocessing\n",
    "Update Class Column from STRING to INT"
   ]
  },
  {
   "cell_type": "code",
   "execution_count": 27,
   "metadata": {},
   "outputs": [],
   "source": [
    "df_encoded = pd.DataFrame(obsrv, columns=['ra','dec','u','g','r','i','z','class', 'redshift'])"
   ]
  },
  {
   "cell_type": "code",
   "execution_count": 28,
   "metadata": {},
   "outputs": [
    {
     "data": {
      "text/html": [
       "<div>\n",
       "<style scoped>\n",
       "    .dataframe tbody tr th:only-of-type {\n",
       "        vertical-align: middle;\n",
       "    }\n",
       "\n",
       "    .dataframe tbody tr th {\n",
       "        vertical-align: top;\n",
       "    }\n",
       "\n",
       "    .dataframe thead th {\n",
       "        text-align: right;\n",
       "    }\n",
       "</style>\n",
       "<table border=\"1\" class=\"dataframe\">\n",
       "  <thead>\n",
       "    <tr style=\"text-align: right;\">\n",
       "      <th></th>\n",
       "      <th>ra</th>\n",
       "      <th>dec</th>\n",
       "      <th>u</th>\n",
       "      <th>g</th>\n",
       "      <th>r</th>\n",
       "      <th>i</th>\n",
       "      <th>z</th>\n",
       "      <th>class</th>\n",
       "      <th>redshift</th>\n",
       "    </tr>\n",
       "  </thead>\n",
       "  <tbody>\n",
       "    <tr>\n",
       "      <th>0</th>\n",
       "      <td>183.531326</td>\n",
       "      <td>0.089693</td>\n",
       "      <td>19.47406</td>\n",
       "      <td>17.04240</td>\n",
       "      <td>15.94699</td>\n",
       "      <td>15.50342</td>\n",
       "      <td>15.22531</td>\n",
       "      <td>2</td>\n",
       "      <td>-0.000009</td>\n",
       "    </tr>\n",
       "    <tr>\n",
       "      <th>1</th>\n",
       "      <td>183.598371</td>\n",
       "      <td>0.135285</td>\n",
       "      <td>18.66280</td>\n",
       "      <td>17.21449</td>\n",
       "      <td>16.67637</td>\n",
       "      <td>16.48922</td>\n",
       "      <td>16.39150</td>\n",
       "      <td>2</td>\n",
       "      <td>-0.000055</td>\n",
       "    </tr>\n",
       "    <tr>\n",
       "      <th>2</th>\n",
       "      <td>183.680207</td>\n",
       "      <td>0.126185</td>\n",
       "      <td>19.38298</td>\n",
       "      <td>18.19169</td>\n",
       "      <td>17.47428</td>\n",
       "      <td>17.08732</td>\n",
       "      <td>16.80125</td>\n",
       "      <td>0</td>\n",
       "      <td>0.123111</td>\n",
       "    </tr>\n",
       "    <tr>\n",
       "      <th>3</th>\n",
       "      <td>183.870529</td>\n",
       "      <td>0.049911</td>\n",
       "      <td>17.76536</td>\n",
       "      <td>16.60272</td>\n",
       "      <td>16.16116</td>\n",
       "      <td>15.98233</td>\n",
       "      <td>15.90438</td>\n",
       "      <td>2</td>\n",
       "      <td>-0.000111</td>\n",
       "    </tr>\n",
       "    <tr>\n",
       "      <th>4</th>\n",
       "      <td>183.883288</td>\n",
       "      <td>0.102557</td>\n",
       "      <td>17.55025</td>\n",
       "      <td>16.26342</td>\n",
       "      <td>16.43869</td>\n",
       "      <td>16.55492</td>\n",
       "      <td>16.61326</td>\n",
       "      <td>2</td>\n",
       "      <td>0.000590</td>\n",
       "    </tr>\n",
       "  </tbody>\n",
       "</table>\n",
       "</div>"
      ],
      "text/plain": [
       "           ra       dec         u         g         r         i         z  \\\n",
       "0  183.531326  0.089693  19.47406  17.04240  15.94699  15.50342  15.22531   \n",
       "1  183.598371  0.135285  18.66280  17.21449  16.67637  16.48922  16.39150   \n",
       "2  183.680207  0.126185  19.38298  18.19169  17.47428  17.08732  16.80125   \n",
       "3  183.870529  0.049911  17.76536  16.60272  16.16116  15.98233  15.90438   \n",
       "4  183.883288  0.102557  17.55025  16.26342  16.43869  16.55492  16.61326   \n",
       "\n",
       "   class  redshift  \n",
       "0      2 -0.000009  \n",
       "1      2 -0.000055  \n",
       "2      0  0.123111  \n",
       "3      2 -0.000111  \n",
       "4      2  0.000590  "
      ]
     },
     "execution_count": 28,
     "metadata": {},
     "output_type": "execute_result"
    }
   ],
   "source": [
    "le = LabelEncoder()\n",
    "df_encoded['class'] = le.fit_transform(df_encoded['class'])\n",
    "df_encoded.head()"
   ]
  },
  {
   "cell_type": "code",
   "execution_count": 29,
   "metadata": {},
   "outputs": [],
   "source": [
    "# Assign Variables\n",
    "X = df_encoded.drop(['class'], axis=1)\n",
    "Y = df_encoded['class']"
   ]
  },
  {
   "cell_type": "code",
   "execution_count": 30,
   "metadata": {},
   "outputs": [],
   "source": [
    "X_train, X_test, y_train, y_test = train_test_split(X, Y, test_size=.3)\n",
    "# print(X_train.shape, y_train.shape,X_test.shape, y_test.shape)"
   ]
  },
  {
   "cell_type": "code",
   "execution_count": 31,
   "metadata": {},
   "outputs": [
    {
     "data": {
      "text/plain": [
       "XGBClassifier(base_score=0.5, booster='gbtree', colsample_bylevel=1,\n",
       "              colsample_bynode=1, colsample_bytree=1, gamma=0, gpu_id=-1,\n",
       "              importance_type='gain', interaction_constraints='',\n",
       "              learning_rate=0.7, max_delta_step=0, max_depth=3,\n",
       "              min_child_weight=1, missing=nan, monotone_constraints='()',\n",
       "              n_estimators=100, n_jobs=0, num_parallel_tree=1,\n",
       "              objective='multi:softprob', random_state=0, reg_alpha=0,\n",
       "              reg_lambda=1, scale_pos_weight=None, subsample=1,\n",
       "              tree_method='exact', validate_parameters=1, verbosity=None)"
      ]
     },
     "execution_count": 31,
     "metadata": {},
     "output_type": "execute_result"
    }
   ],
   "source": [
    "# Create / Train the Model \n",
    "xgb_model = xgboost.XGBClassifier(max_depth=3, learning_rate=.7)\n",
    "xgb_model.fit(X_train, y_train)"
   ]
  },
  {
   "cell_type": "code",
   "execution_count": 32,
   "metadata": {},
   "outputs": [],
   "source": [
    "# Make Predictions\n",
    "y_pred = xgb_model.predict(X_test)\n",
    "xgb_predictions = [round(value) for value in y_pred]"
   ]
  },
  {
   "cell_type": "code",
   "execution_count": 33,
   "metadata": {},
   "outputs": [
    {
     "name": "stdout",
     "output_type": "stream",
     "text": [
      "XGBoost Test Accuracy: 99.07%\n"
     ]
    }
   ],
   "source": [
    "# Evaluation\n",
    "xgb_accuracy = accuracy_score(y_test, xgb_predictions)\n",
    "print(\"XGBoost Test Accuracy: %.2f%%\" % (xgb_accuracy * 100.0))"
   ]
  },
  {
   "cell_type": "markdown",
   "metadata": {},
   "source": [
    "## Summary of ML Model Results"
   ]
  },
  {
   "cell_type": "code",
   "execution_count": 34,
   "metadata": {},
   "outputs": [
    {
     "name": "stdout",
     "output_type": "stream",
     "text": [
      "Decision Tree Classifier Score: 98.63%\n",
      "Random Forest Classifier Score: 97.83%\n",
      "Linear Regression Test/Pred Score: 95.53%\n",
      "KNN Test/Pred (k-1) Score: 75.90%\n",
      "SVC Test Accuracy: 70.87%\n",
      "XGBoost Test Accuracy: 99.07%\n"
     ]
    }
   ],
   "source": [
    "print(\"Decision Tree Classifier Score: %.2f%%\" % (dtf_score*100))\n",
    "print(\"Random Forest Classifier Score: %.2f%%\" % (rfc_score*100))\n",
    "print(\"Linear Regression Test/Pred Score: %.2f%%\" % (lr_metric*100))\n",
    "print(\"KNN Test/Pred (k-1) Score: %.2f%%\" % (kn1_metric*100))\n",
    "print(\"SVC Test Accuracy: %.2f%%\" % (svc_metric*100))\n",
    "print(\"XGBoost Test Accuracy: %.2f%%\" % (xgb_accuracy*100.0))"
   ]
  }
 ],
 "metadata": {
  "kernelspec": {
   "display_name": "Python 3",
   "language": "python",
   "name": "python3"
  },
  "language_info": {
   "codemirror_mode": {
    "name": "ipython",
    "version": 3
   },
   "file_extension": ".py",
   "mimetype": "text/x-python",
   "name": "python",
   "nbconvert_exporter": "python",
   "pygments_lexer": "ipython3",
   "version": "3.7.4"
  }
 },
 "nbformat": 4,
 "nbformat_minor": 4
}
