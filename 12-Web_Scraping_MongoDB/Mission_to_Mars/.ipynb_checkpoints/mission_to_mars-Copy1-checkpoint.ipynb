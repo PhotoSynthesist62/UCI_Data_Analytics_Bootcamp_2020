{
 "cells": [
  {
   "cell_type": "markdown",
   "metadata": {},
   "source": [
    "## JPL Mars Space Images - Featured Image"
   ]
  },
  {
   "cell_type": "code",
   "execution_count": 27,
   "metadata": {},
   "outputs": [],
   "source": [
    "#import Dependencies\n",
    "from bs4 import BeautifulSoup as bs\n",
    "import requests\n",
    "import pymongo\n",
    "from selenium import webdriver\n",
    "from splinter import Browser\n",
    "import time\n",
    "import re\n",
    "import os, ssl\n",
    "if (not os.environ.get('PYTHONHTTPSVERIFY', '') and\n",
    "getattr(ssl, '_create_unverified_context', None)):\n",
    "    ssl._create_default_https_context = ssl._create_unverified_context\n",
    "import pandas as pd\n",
    "import pprint\n",
    "import lxml.html\n",
    "import lxml.html.clean"
   ]
  },
  {
   "cell_type": "code",
   "execution_count": 28,
   "metadata": {
    "scrolled": false
   },
   "outputs": [],
   "source": [
    "# Initialize PyMongo to work with MongoDBs\n",
    "conn = 'mongodb://localhost:27017'\n",
    "client = pymongo.MongoClient(conn)\n",
    "\n",
    "# Define database and collection\n",
    "db = client.mars_db\n",
    "collection = db.latest_news\n",
    "db.collection.drop()"
   ]
  },
  {
   "cell_type": "code",
   "execution_count": 29,
   "metadata": {
    "tags": []
   },
   "outputs": [
    {
     "name": "stdout",
     "output_type": "stream",
     "text": [
      "\n",
      "\n",
      "The Launch Is Approaching for NASA's Next Mars Rover, Perseverance\n",
      "\n",
      "\n",
      "\n",
      "The Red Planet's surface has been visited by eight NASA spacecraft. The ninth will be the first that includes a roundtrip ticket in its flight plan. \n",
      "\n"
     ]
    }
   ],
   "source": [
    "# URL to Scrape\n",
    "news_url = 'https://mars.nasa.gov/news'\n",
    "\n",
    "# Retrieve page with the requests module\n",
    "response = requests.get(news_url)\n",
    "\n",
    "# Create BeautifulSoup object\n",
    "soup = bs(response.content,'lxml')\n",
    "first_post = soup.find('div', class_=\"features\").find('div', class_='slide')\n",
    "news_title = first_post.find('div',class_='content_title').text\n",
    "news_summary = first_post.find('div', class_= 'rollover_description_inner').text\n",
    "\n",
    "print(news_title)\n",
    "print(news_summary)"
   ]
  },
  {
   "cell_type": "code",
   "execution_count": 30,
   "metadata": {
    "scrolled": true,
    "tags": []
   },
   "outputs": [],
   "source": [
    "# first_post = soup.find('div', class_=\"features\").find('div', class_='slide')\n",
    "# print(first_post.prettify())"
   ]
  },
  {
   "cell_type": "code",
   "execution_count": 31,
   "metadata": {},
   "outputs": [
    {
     "data": {
      "text/plain": [
       "\"\\n\\nThe Launch Is Approaching for NASA's Next Mars Rover, Perseverance\\n\\n\""
      ]
     },
     "execution_count": 31,
     "metadata": {},
     "output_type": "execute_result"
    }
   ],
   "source": [
    "news_title = first_post.find('div',class_='content_title').text\n",
    "news_title"
   ]
  },
  {
   "cell_type": "code",
   "execution_count": 32,
   "metadata": {},
   "outputs": [
    {
     "data": {
      "text/plain": [
       "\"\\nThe Red Planet's surface has been visited by eight NASA spacecraft. The ninth will be the first that includes a roundtrip ticket in its flight plan. \\n\""
      ]
     },
     "execution_count": 32,
     "metadata": {},
     "output_type": "execute_result"
    }
   ],
   "source": [
    "news_summary = first_post.find('div', class_= 'rollover_description_inner').text\n",
    "news_summary"
   ]
  },
  {
   "cell_type": "code",
   "execution_count": 33,
   "metadata": {},
   "outputs": [
    {
     "data": {
      "text/plain": [
       "<pymongo.results.InsertOneResult at 0x183c8586ac8>"
      ]
     },
     "execution_count": 33,
     "metadata": {},
     "output_type": "execute_result"
    }
   ],
   "source": [
    "first_post = soup.find('div', class_=\"features\").find('div', class_='slide')\n",
    "news_title = first_post.find('div', class_='content_title').text\n",
    "news_summary = first_post.find('div', class_='rollover_description_inner').text\n",
    "post = {'news_title': news_title,'news_summary': news_summary}\n",
    "collection.insert_one(post)\n"
   ]
  },
  {
   "cell_type": "code",
   "execution_count": 34,
   "metadata": {
    "scrolled": true
   },
   "outputs": [],
   "source": [
    "# # another way might not work all the time\n",
    "# soup.find_all('div',class_=\"content_title\")"
   ]
  },
  {
   "cell_type": "code",
   "execution_count": 35,
   "metadata": {
    "scrolled": true
   },
   "outputs": [],
   "source": [
    "# # # another way might not work all the time\n",
    "# results = soup.find_all('div',class_=\"slide\")\n",
    "# results"
   ]
  },
  {
   "cell_type": "code",
   "execution_count": 36,
   "metadata": {
    "scrolled": true,
    "tags": []
   },
   "outputs": [
    {
     "name": "stdout",
     "output_type": "stream",
     "text": [
      "\n",
      "\n",
      "The Launch Is Approaching for NASA's Next Mars Rover, Perseverance\n",
      "\n",
      "\n",
      "\n",
      "The Red Planet's surface has been visited by eight NASA spacecraft. The ninth will be the first that includes a roundtrip ticket in its flight plan. \n",
      "\n",
      "\n",
      "\n",
      "NASA to Hold Mars 2020 Perseverance Rover Launch Briefing\n",
      "\n",
      "\n",
      "\n",
      "Learn more about the agency's next Red Planet mission during a live event on June 17.\n",
      "\n",
      "\n",
      "\n",
      "Alabama High School Student Names NASA's Mars Helicopter\n",
      "\n",
      "\n",
      "\n",
      "Vaneeza Rupani's essay was chosen as the name for the small spacecraft, which will mark NASA's first attempt at powered flight on another planet.\n",
      "\n",
      "\n",
      "\n",
      "Mars Helicopter Attached to NASA's Perseverance Rover\n",
      "\n",
      "\n",
      "\n",
      "The team also fueled the rover's sky crane to get ready for this summer's history-making launch.\n",
      "\n",
      "\n",
      "\n",
      "NASA's Perseverance Mars Rover Gets Its Wheels and Air Brakes\n",
      "\n",
      "\n",
      "\n",
      "After the rover was shipped from JPL to Kennedy Space Center, the team is getting closer to finalizing the spacecraft for launch later this summer.\n",
      "\n",
      "\n",
      "\n",
      "10.9 Million Names Now Aboard NASA's Perseverance Mars Rover\n",
      "\n",
      "\n",
      "\n",
      "As part of NASA's 'Send Your Name to Mars' campaign, they've been stenciled onto three microchips along with essays from NASA's 'Name the Rover' contest. Next stop: Mars.\n",
      "\n"
     ]
    }
   ],
   "source": [
    "# Scrape the NASA Mars News Site and collect the latest News Title and Paragraph Text.\n",
    "# Assign the text to variables that you can reference later.\n",
    "\n",
    "# Retrieve the parent divs\n",
    "results = soup.find_all('div',class_='slide')\n",
    "\n",
    "# loop over results to get article data\n",
    "for result in results:\n",
    "    # scrape the article title \n",
    "    news_title = result.find('div', class_='content_title').text\n",
    "    \n",
    "    # scrape the article paragraph\n",
    "    news_p = result.find('div', class_='rollover_description_inner').text\n",
    "       \n",
    "    # print article data\n",
    "    print(news_title)\n",
    "    print(news_p)\n",
    "\n",
    "    # Dictionary to be inserted into MongoDB\n",
    "    post = {\n",
    "        'title': news_title,\n",
    "        'paragraph': news_p,\n",
    "    }\n",
    "\n",
    "    # Insert dictionary into MongoDB as a document\n",
    "    collection.insert_one(post)"
   ]
  },
  {
   "cell_type": "code",
   "execution_count": 37,
   "metadata": {
    "tags": []
   },
   "outputs": [
    {
     "name": "stdout",
     "output_type": "stream",
     "text": [
      "{'_id': ObjectId('5f04fd693f86a9e26c67d050'), 'title': \"\\n\\nThe Launch Is Approaching for NASA's Next Mars Rover, Perseverance\\n\\n\", 'paragraph': \"\\nThe Red Planet's surface has been visited by eight NASA spacecraft. The ninth will be the first that includes a roundtrip ticket in its flight plan. \\n\"}\n",
      "{'_id': ObjectId('5f04fd6a3f86a9e26c67d051'), 'title': '\\n\\nNASA to Hold Mars 2020 Perseverance Rover Launch Briefing\\n\\n', 'paragraph': \"\\nLearn more about the agency's next Red Planet mission during a live event on June 17.\\n\"}\n",
      "{'_id': ObjectId('5f04fd6a3f86a9e26c67d052'), 'title': \"\\n\\nAlabama High School Student Names NASA's Mars Helicopter\\n\\n\", 'paragraph': \"\\nVaneeza Rupani's essay was chosen as the name for the small spacecraft, which will mark NASA's first attempt at powered flight on another planet.\\n\"}\n",
      "{'_id': ObjectId('5f04fd6a3f86a9e26c67d053'), 'title': \"\\n\\nMars Helicopter Attached to NASA's Perseverance Rover\\n\\n\", 'paragraph': \"\\nThe team also fueled the rover's sky crane to get ready for this summer's history-making launch.\\n\"}\n",
      "{'_id': ObjectId('5f04fd6a3f86a9e26c67d054'), 'title': \"\\n\\nNASA's Perseverance Mars Rover Gets Its Wheels and Air Brakes\\n\\n\", 'paragraph': '\\nAfter the rover was shipped from JPL to Kennedy Space Center, the team is getting closer to finalizing the spacecraft for launch later this summer.\\n'}\n",
      "{'_id': ObjectId('5f04fd6a3f86a9e26c67d055'), 'title': \"\\n\\n10.9 Million Names Now Aboard NASA's Perseverance Mars Rover\\n\\n\", 'paragraph': \"\\nAs part of NASA's 'Send Your Name to Mars' campaign, they've been stenciled onto three microchips along with essays from NASA's 'Name the Rover' contest. Next stop: Mars.\\n\"}\n",
      "{'_id': ObjectId('5f04fdbb3f86a9e26c67d058'), 'title': \"\\n\\nThe Launch Is Approaching for NASA's Next Mars Rover, Perseverance\\n\\n\", 'paragraph': \"\\nThe Red Planet's surface has been visited by eight NASA spacecraft. The ninth will be the first that includes a roundtrip ticket in its flight plan. \\n\"}\n",
      "{'_id': ObjectId('5f04fdbb3f86a9e26c67d059'), 'title': '\\n\\nNASA to Hold Mars 2020 Perseverance Rover Launch Briefing\\n\\n', 'paragraph': \"\\nLearn more about the agency's next Red Planet mission during a live event on June 17.\\n\"}\n",
      "{'_id': ObjectId('5f04fdbb3f86a9e26c67d05a'), 'title': \"\\n\\nAlabama High School Student Names NASA's Mars Helicopter\\n\\n\", 'paragraph': \"\\nVaneeza Rupani's essay was chosen as the name for the small spacecraft, which will mark NASA's first attempt at powered flight on another planet.\\n\"}\n",
      "{'_id': ObjectId('5f04fdbb3f86a9e26c67d05b'), 'title': \"\\n\\nMars Helicopter Attached to NASA's Perseverance Rover\\n\\n\", 'paragraph': \"\\nThe team also fueled the rover's sky crane to get ready for this summer's history-making launch.\\n\"}\n",
      "{'_id': ObjectId('5f04fdbb3f86a9e26c67d05c'), 'title': \"\\n\\nNASA's Perseverance Mars Rover Gets Its Wheels and Air Brakes\\n\\n\", 'paragraph': '\\nAfter the rover was shipped from JPL to Kennedy Space Center, the team is getting closer to finalizing the spacecraft for launch later this summer.\\n'}\n",
      "{'_id': ObjectId('5f04fdbb3f86a9e26c67d05d'), 'title': \"\\n\\n10.9 Million Names Now Aboard NASA's Perseverance Mars Rover\\n\\n\", 'paragraph': \"\\nAs part of NASA's 'Send Your Name to Mars' campaign, they've been stenciled onto three microchips along with essays from NASA's 'Name the Rover' contest. Next stop: Mars.\\n\"}\n",
      "{'_id': ObjectId('5f06470c5218d19a557cc6e1'), 'title': \"\\n\\nThe Launch Is Approaching for NASA's Next Mars Rover, Perseverance\\n\\n\", 'paragraph': \"\\nThe Red Planet's surface has been visited by eight NASA spacecraft. The ninth will be the first that includes a roundtrip ticket in its flight plan. \\n\"}\n",
      "{'_id': ObjectId('5f06470c5218d19a557cc6e2'), 'title': '\\n\\nNASA to Hold Mars 2020 Perseverance Rover Launch Briefing\\n\\n', 'paragraph': \"\\nLearn more about the agency's next Red Planet mission during a live event on June 17.\\n\"}\n",
      "{'_id': ObjectId('5f06470c5218d19a557cc6e3'), 'title': \"\\n\\nAlabama High School Student Names NASA's Mars Helicopter\\n\\n\", 'paragraph': \"\\nVaneeza Rupani's essay was chosen as the name for the small spacecraft, which will mark NASA's first attempt at powered flight on another planet.\\n\"}\n",
      "{'_id': ObjectId('5f06470c5218d19a557cc6e4'), 'title': \"\\n\\nMars Helicopter Attached to NASA's Perseverance Rover\\n\\n\", 'paragraph': \"\\nThe team also fueled the rover's sky crane to get ready for this summer's history-making launch.\\n\"}\n",
      "{'_id': ObjectId('5f06470c5218d19a557cc6e5'), 'title': \"\\n\\nNASA's Perseverance Mars Rover Gets Its Wheels and Air Brakes\\n\\n\", 'paragraph': '\\nAfter the rover was shipped from JPL to Kennedy Space Center, the team is getting closer to finalizing the spacecraft for launch later this summer.\\n'}\n",
      "{'_id': ObjectId('5f06470c5218d19a557cc6e6'), 'title': \"\\n\\n10.9 Million Names Now Aboard NASA's Perseverance Mars Rover\\n\\n\", 'paragraph': \"\\nAs part of NASA's 'Send Your Name to Mars' campaign, they've been stenciled onto three microchips along with essays from NASA's 'Name the Rover' contest. Next stop: Mars.\\n\"}\n",
      "{'_id': ObjectId('5f0650f5308d7684c82b5415'), 'news_title': \"\\n\\nThe Launch Is Approaching for NASA's Next Mars Rover, Perseverance\\n\\n\", 'news_summary': \"\\nThe Red Planet's surface has been visited by eight NASA spacecraft. The ninth will be the first that includes a roundtrip ticket in its flight plan. \\n\"}\n",
      "{'_id': ObjectId('5f0650f5308d7684c82b5416'), 'news_title': \"\\n\\nThe Launch Is Approaching for NASA's Next Mars Rover, Perseverance\\n\\n\", 'news_summary': \"\\nThe Red Planet's surface has been visited by eight NASA spacecraft. The ninth will be the first that includes a roundtrip ticket in its flight plan. \\n\"}\n",
      "{'_id': ObjectId('5f0650f5308d7684c82b5417'), 'news_title': \"\\n\\nThe Launch Is Approaching for NASA's Next Mars Rover, Perseverance\\n\\n\", 'news_summary': \"\\nThe Red Planet's surface has been visited by eight NASA spacecraft. The ninth will be the first that includes a roundtrip ticket in its flight plan. \\n\"}\n",
      "{'_id': ObjectId('5f0650f5308d7684c82b5418'), 'news_title': \"\\n\\nThe Launch Is Approaching for NASA's Next Mars Rover, Perseverance\\n\\n\", 'news_summary': \"\\nThe Red Planet's surface has been visited by eight NASA spacecraft. The ninth will be the first that includes a roundtrip ticket in its flight plan. \\n\"}\n",
      "{'_id': ObjectId('5f0650f5308d7684c82b5419'), 'news_title': \"\\n\\nThe Launch Is Approaching for NASA's Next Mars Rover, Perseverance\\n\\n\", 'news_summary': \"\\nThe Red Planet's surface has been visited by eight NASA spacecraft. The ninth will be the first that includes a roundtrip ticket in its flight plan. \\n\"}\n",
      "{'_id': ObjectId('5f06516f308d7684c82b541a'), 'news_title': \"\\n\\nThe Launch Is Approaching for NASA's Next Mars Rover, Perseverance\\n\\n\", 'news_summary': \"\\nThe Red Planet's surface has been visited by eight NASA spacecraft. The ninth will be the first that includes a roundtrip ticket in its flight plan. \\n\"}\n",
      "{'_id': ObjectId('5f087f219b926552c017c3bb'), 'news_title': \"\\n\\nThe Launch Is Approaching for NASA's Next Mars Rover, Perseverance\\n\\n\", 'news_summary': \"\\nThe Red Planet's surface has been visited by eight NASA spacecraft. The ninth will be the first that includes a roundtrip ticket in its flight plan. \\n\"}\n",
      "{'_id': ObjectId('5f087f219b926552c017c3bc'), 'title': \"\\n\\nThe Launch Is Approaching for NASA's Next Mars Rover, Perseverance\\n\\n\", 'paragraph': \"\\nThe Red Planet's surface has been visited by eight NASA spacecraft. The ninth will be the first that includes a roundtrip ticket in its flight plan. \\n\"}\n",
      "{'_id': ObjectId('5f087f219b926552c017c3bd'), 'title': '\\n\\nNASA to Hold Mars 2020 Perseverance Rover Launch Briefing\\n\\n', 'paragraph': \"\\nLearn more about the agency's next Red Planet mission during a live event on June 17.\\n\"}\n",
      "{'_id': ObjectId('5f087f219b926552c017c3be'), 'title': \"\\n\\nAlabama High School Student Names NASA's Mars Helicopter\\n\\n\", 'paragraph': \"\\nVaneeza Rupani's essay was chosen as the name for the small spacecraft, which will mark NASA's first attempt at powered flight on another planet.\\n\"}\n",
      "{'_id': ObjectId('5f087f219b926552c017c3bf'), 'title': \"\\n\\nMars Helicopter Attached to NASA's Perseverance Rover\\n\\n\", 'paragraph': \"\\nThe team also fueled the rover's sky crane to get ready for this summer's history-making launch.\\n\"}\n",
      "{'_id': ObjectId('5f087f219b926552c017c3c0'), 'title': \"\\n\\nNASA's Perseverance Mars Rover Gets Its Wheels and Air Brakes\\n\\n\", 'paragraph': '\\nAfter the rover was shipped from JPL to Kennedy Space Center, the team is getting closer to finalizing the spacecraft for launch later this summer.\\n'}\n",
      "{'_id': ObjectId('5f087f219b926552c017c3c1'), 'title': \"\\n\\n10.9 Million Names Now Aboard NASA's Perseverance Mars Rover\\n\\n\", 'paragraph': \"\\nAs part of NASA's 'Send Your Name to Mars' campaign, they've been stenciled onto three microchips along with essays from NASA's 'Name the Rover' contest. Next stop: Mars.\\n\"}\n"
     ]
    }
   ],
   "source": [
    "db.getCollectionInfo\n",
    "latest_news = db.latest_news.find()\n",
    "for item in latest_news:\n",
    "    print(item)"
   ]
  },
  {
   "cell_type": "code",
   "execution_count": 38,
   "metadata": {},
   "outputs": [],
   "source": [
    "# Use splinter to navigate the site and find the image url for the current Featured Mars Image \n",
    "# and assign the url string to a variable called featured_image_url. \n",
    "# Use the full-sized image and save the complete url string\n",
    "executable_path = {'executable_path': 'chromedriver.exe'}\n",
    "browser = Browser('chrome', **executable_path)"
   ]
  },
  {
   "cell_type": "code",
   "execution_count": 39,
   "metadata": {},
   "outputs": [],
   "source": [
    "url_element = 'https://www.jpl.nasa.gov/spaceimages/?search=&category=Mars'\n",
    "browser.visit(url_element) "
   ]
  },
  {
   "cell_type": "code",
   "execution_count": 40,
   "metadata": {
    "scrolled": true
   },
   "outputs": [],
   "source": [
    "full_image_elem = browser.find_by_id('full_image', wait_time = 1)\n",
    "full_image_elem.click()"
   ]
  },
  {
   "cell_type": "code",
   "execution_count": 41,
   "metadata": {
    "scrolled": true
   },
   "outputs": [],
   "source": [
    "more_info_element = browser.find_link_by_partial_text('more info')\n",
    "more_info_element.click()"
   ]
  },
  {
   "cell_type": "code",
   "execution_count": 42,
   "metadata": {},
   "outputs": [],
   "source": [
    "html = browser.html\n",
    "image_soup = bs(html,\"html.parser\")\n",
    "image_url = image_soup.select_one(\"figure.lede a img\").get(\"src\")"
   ]
  },
  {
   "cell_type": "code",
   "execution_count": 43,
   "metadata": {},
   "outputs": [
    {
     "data": {
      "text/plain": [
       "'http://www.jpl.nasa.gov/spaceimages/images/largesize/PIA18848_hires.jpg'"
      ]
     },
     "execution_count": 43,
     "metadata": {},
     "output_type": "execute_result"
    }
   ],
   "source": [
    "mars_image = 'http://www.jpl.nasa.gov' + image_url\n",
    "mars_image"
   ]
  },
  {
   "cell_type": "markdown",
   "metadata": {},
   "source": [
    "## Mars Weather"
   ]
  },
  {
   "cell_type": "code",
   "execution_count": 44,
   "metadata": {
    "scrolled": true
   },
   "outputs": [],
   "source": [
    "# Visit the Mars Weather twitter account and scrape the latest Mars weather tweet.\n",
    "# Save the tweet text for the weather report as a variable called mars_weather.\n",
    "executable_path = {'executable_path': 'chromedriver.exe'}\n",
    "browser = Browser('chrome', **executable_path)\n",
    "mars_twitter = 'https://twitter.com/MarsWxReport'\n",
    "browser.visit(mars_twitter)\n",
    "# test = browser.find_by_xpath(\"/html/body/div/div/div/div/main/div/div/div/div/div/div/div/div/div/section/div/div/div/div/div\")\n",
    "# test.click()"
   ]
  },
  {
   "cell_type": "code",
   "execution_count": 45,
   "metadata": {
    "scrolled": true
   },
   "outputs": [],
   "source": [
    "html = browser.html\n",
    "twitter_soup = bs(html,\"html.parser\")\n",
    "tweet = twitter_soup.find(\"div\", attrs={\"class\":\"tweet\",\"data-name\": \"Mars Weather\"})"
   ]
  },
  {
   "cell_type": "code",
   "execution_count": 46,
   "metadata": {},
   "outputs": [
    {
     "data": {
      "text/plain": [
       "'InSight sol 566 (2020-06-29) low -88.4ºC (-127.1ºF) high -4.2ºC (24.4ºF)\\nwinds from the WNW at 5.1 m/s (11.5 mph) gusting to 16.8 m/s (37.6 mph)\\npressure at 7.70 hPa'"
      ]
     },
     "execution_count": 46,
     "metadata": {},
     "output_type": "execute_result"
    }
   ],
   "source": [
    "try:\n",
    "    mars_weather = tweet.find(\"p\", \"tweet-text\").get_text()\n",
    "    mars_weather\n",
    "\n",
    "except AttributeError:\n",
    "\n",
    "    pattern = re.compile(r'sol')\n",
    "    mars_weather = twitter_soup.find('span', text=pattern).text\n",
    "    mars_weather\n",
    "\n",
    "mars_weather"
   ]
  },
  {
   "cell_type": "markdown",
   "metadata": {},
   "source": [
    "## Mars Facts"
   ]
  },
  {
   "cell_type": "code",
   "execution_count": 47,
   "metadata": {},
   "outputs": [
    {
     "data": {
      "text/html": [
       "<div>\n",
       "<style scoped>\n",
       "    .dataframe tbody tr th:only-of-type {\n",
       "        vertical-align: middle;\n",
       "    }\n",
       "\n",
       "    .dataframe tbody tr th {\n",
       "        vertical-align: top;\n",
       "    }\n",
       "\n",
       "    .dataframe thead th {\n",
       "        text-align: right;\n",
       "    }\n",
       "</style>\n",
       "<table border=\"1\" class=\"dataframe\">\n",
       "  <thead>\n",
       "    <tr style=\"text-align: right;\">\n",
       "      <th></th>\n",
       "      <th>0</th>\n",
       "      <th>1</th>\n",
       "    </tr>\n",
       "  </thead>\n",
       "  <tbody>\n",
       "    <tr>\n",
       "      <td>0</td>\n",
       "      <td>Equatorial Diameter:</td>\n",
       "      <td>6,792 km</td>\n",
       "    </tr>\n",
       "    <tr>\n",
       "      <td>1</td>\n",
       "      <td>Polar Diameter:</td>\n",
       "      <td>6,752 km</td>\n",
       "    </tr>\n",
       "    <tr>\n",
       "      <td>2</td>\n",
       "      <td>Mass:</td>\n",
       "      <td>6.39 × 10^23 kg (0.11 Earths)</td>\n",
       "    </tr>\n",
       "    <tr>\n",
       "      <td>3</td>\n",
       "      <td>Moons:</td>\n",
       "      <td>2 (Phobos &amp; Deimos)</td>\n",
       "    </tr>\n",
       "    <tr>\n",
       "      <td>4</td>\n",
       "      <td>Orbit Distance:</td>\n",
       "      <td>227,943,824 km (1.38 AU)</td>\n",
       "    </tr>\n",
       "    <tr>\n",
       "      <td>5</td>\n",
       "      <td>Orbit Period:</td>\n",
       "      <td>687 days (1.9 years)</td>\n",
       "    </tr>\n",
       "    <tr>\n",
       "      <td>6</td>\n",
       "      <td>Surface Temperature:</td>\n",
       "      <td>-87 to -5 °C</td>\n",
       "    </tr>\n",
       "    <tr>\n",
       "      <td>7</td>\n",
       "      <td>First Record:</td>\n",
       "      <td>2nd millennium BC</td>\n",
       "    </tr>\n",
       "    <tr>\n",
       "      <td>8</td>\n",
       "      <td>Recorded By:</td>\n",
       "      <td>Egyptian astronomers</td>\n",
       "    </tr>\n",
       "  </tbody>\n",
       "</table>\n",
       "</div>"
      ],
      "text/plain": [
       "                      0                              1\n",
       "0  Equatorial Diameter:                       6,792 km\n",
       "1       Polar Diameter:                       6,752 km\n",
       "2                 Mass:  6.39 × 10^23 kg (0.11 Earths)\n",
       "3                Moons:            2 (Phobos & Deimos)\n",
       "4       Orbit Distance:       227,943,824 km (1.38 AU)\n",
       "5         Orbit Period:           687 days (1.9 years)\n",
       "6  Surface Temperature:                   -87 to -5 °C\n",
       "7         First Record:              2nd millennium BC\n",
       "8          Recorded By:           Egyptian astronomers"
      ]
     },
     "execution_count": 47,
     "metadata": {},
     "output_type": "execute_result"
    }
   ],
   "source": [
    "# Visit Mars Facts: https://space-facts.com/mars/ and use Pandas to scrape the table containing \n",
    "# facts about the planet including Diameter, Mass, etc. Use Pandas to convert the data to a HTML table string.\n",
    "pd_url = \"https://space-facts.com/mars\"\n",
    "tables = pd.read_html(pd_url)\n",
    "mars_profile_t = tables[0]\n",
    "mars_earth_t = tables[1]\n",
    "mars_profile_t"
   ]
  },
  {
   "cell_type": "code",
   "execution_count": 48,
   "metadata": {},
   "outputs": [
    {
     "data": {
      "text/html": [
       "<div>\n",
       "<style scoped>\n",
       "    .dataframe tbody tr th:only-of-type {\n",
       "        vertical-align: middle;\n",
       "    }\n",
       "\n",
       "    .dataframe tbody tr th {\n",
       "        vertical-align: top;\n",
       "    }\n",
       "\n",
       "    .dataframe thead th {\n",
       "        text-align: right;\n",
       "    }\n",
       "</style>\n",
       "<table border=\"1\" class=\"dataframe\">\n",
       "  <thead>\n",
       "    <tr style=\"text-align: right;\">\n",
       "      <th></th>\n",
       "      <th>Mars - Earth Comparison</th>\n",
       "      <th>Mars</th>\n",
       "      <th>Earth</th>\n",
       "    </tr>\n",
       "  </thead>\n",
       "  <tbody>\n",
       "    <tr>\n",
       "      <td>0</td>\n",
       "      <td>Diameter:</td>\n",
       "      <td>6,779 km</td>\n",
       "      <td>12,742 km</td>\n",
       "    </tr>\n",
       "    <tr>\n",
       "      <td>1</td>\n",
       "      <td>Mass:</td>\n",
       "      <td>6.39 × 10^23 kg</td>\n",
       "      <td>5.97 × 10^24 kg</td>\n",
       "    </tr>\n",
       "    <tr>\n",
       "      <td>2</td>\n",
       "      <td>Moons:</td>\n",
       "      <td>2</td>\n",
       "      <td>1</td>\n",
       "    </tr>\n",
       "    <tr>\n",
       "      <td>3</td>\n",
       "      <td>Distance from Sun:</td>\n",
       "      <td>227,943,824 km</td>\n",
       "      <td>149,598,262 km</td>\n",
       "    </tr>\n",
       "    <tr>\n",
       "      <td>4</td>\n",
       "      <td>Length of Year:</td>\n",
       "      <td>687 Earth days</td>\n",
       "      <td>365.24 days</td>\n",
       "    </tr>\n",
       "    <tr>\n",
       "      <td>5</td>\n",
       "      <td>Temperature:</td>\n",
       "      <td>-153 to 20 °C</td>\n",
       "      <td>-88 to 58°C</td>\n",
       "    </tr>\n",
       "  </tbody>\n",
       "</table>\n",
       "</div>"
      ],
      "text/plain": [
       "  Mars - Earth Comparison             Mars            Earth\n",
       "0               Diameter:         6,779 km        12,742 km\n",
       "1                   Mass:  6.39 × 10^23 kg  5.97 × 10^24 kg\n",
       "2                  Moons:                2                1\n",
       "3      Distance from Sun:   227,943,824 km   149,598,262 km\n",
       "4         Length of Year:   687 Earth days      365.24 days\n",
       "5            Temperature:    -153 to 20 °C      -88 to 58°C"
      ]
     },
     "execution_count": 48,
     "metadata": {},
     "output_type": "execute_result"
    }
   ],
   "source": [
    "mars_earth_t"
   ]
  },
  {
   "cell_type": "markdown",
   "metadata": {},
   "source": [
    "## Mars Hemispheres"
   ]
  },
  {
   "cell_type": "code",
   "execution_count": 49,
   "metadata": {
    "tags": []
   },
   "outputs": [
    {
     "name": "stdout",
     "output_type": "stream",
     "text": [
      "[ { 'img_url': 'https://astropedia.astrogeology.usgs.gov/download/Mars/Viking/cerberus_enhanced.tif/full.jpg',\n",
      "    'title': 'Cerberus Hemisphere'},\n",
      "  { 'img_url': 'https://astropedia.astrogeology.usgs.gov/download/Mars/Viking/schiaparelli_enhanced.tif/full.jpg',\n",
      "    'title': 'Schiaparelli Hemisphere'},\n",
      "  { 'img_url': 'https://astropedia.astrogeology.usgs.gov/download/Mars/Viking/syrtis_major_enhanced.tif/full.jpg',\n",
      "    'title': 'Syrtis Major Hemisphere'},\n",
      "  { 'img_url': 'https://astropedia.astrogeology.usgs.gov/download/Mars/Viking/valles_marineris_enhanced.tif/full.jpg',\n",
      "    'title': 'Valles Marineris Hemisphere'}]\n"
     ]
    }
   ],
   "source": [
    "# Visit  USGS Astrogeology: https://astrogeology.usgs.gov/search/results?q=hemisphere+enhanced&k1=target&v1=Mars \n",
    "# to obtain hi-res images for each of Mars' hemispheres. Click links to find the full res image url \n",
    "# Use a Python dictionary to store the data using the keys img_url and title.\n",
    "# Append the dictionary w the image url string and hemisphere title to a list, containing\n",
    "# one dictionary for each hemisphere.\n",
    "\n",
    "mars_hemisphere_images = [\n",
    "    {\"title\": \"Cerberus Hemisphere\",\n",
    "     \"img_url\": \"https://astropedia.astrogeology.usgs.gov/download/Mars/Viking/cerberus_enhanced.tif/full.jpg\"},\n",
    "    \n",
    "    {\"title\": \"Schiaparelli Hemisphere\",\n",
    "     \"img_url\": \"https://astropedia.astrogeology.usgs.gov/download/Mars/Viking/schiaparelli_enhanced.tif/full.jpg\"},\n",
    "    \n",
    "    {\"title\": \"Syrtis Major Hemisphere\",\n",
    "     \"img_url\": \"https://astropedia.astrogeology.usgs.gov/download/Mars/Viking/syrtis_major_enhanced.tif/full.jpg\"},\n",
    "    \n",
    "    {\"title\": \"Valles Marineris Hemisphere\",\n",
    "     \"img_url\": \"https://astropedia.astrogeology.usgs.gov/download/Mars/Viking/valles_marineris_enhanced.tif/full.jpg\"}\n",
    "]\n",
    "\n",
    "pp = pprint.PrettyPrinter(indent=2)\n",
    "pp.pprint(mars_hemisphere_images)"
   ]
  },
  {
   "cell_type": "markdown",
   "metadata": {},
   "source": [
    "## MongoDB and Flask Application"
   ]
  },
  {
   "cell_type": "code",
   "execution_count": 50,
   "metadata": {},
   "outputs": [],
   "source": [
    "# Use MongoDB w Flask templating to create a new HTML page displaying all of the info scraped from the URLs above.\n",
    "\n",
    "# Convert your Jupyter NB into a Python script called 'scrape_mars.py' using a function called 'scrape' that \n",
    "# executes all of your scraping code above and returns a Python dictionary containing all scraped data.\n",
    "\n",
    "# Next, create a route called '/scrape' to import your 'scrape_mars.py' script and call your 'scrape' function.\n",
    "    # Store the return value in Mongo as a Python dictionary.\n",
    "\n",
    "# Create a root route / that will query your Mongo db and pass the mars data into an HTML template for display\n",
    "\n",
    "# Create a template called index.html that will display the mars data dictionary data in the appropriate HTML elements.\n",
    "# See 'images' for design reference."
   ]
  },
  {
   "cell_type": "markdown",
   "metadata": {},
   "source": [
    "## Step 3 - Submission"
   ]
  },
  {
   "cell_type": "code",
   "execution_count": 51,
   "metadata": {},
   "outputs": [],
   "source": [
    "# Upload to the repository: Jupyter NB containing the scraping code used and Screenshots of your final application."
   ]
  },
  {
   "cell_type": "markdown",
   "metadata": {},
   "source": [
    "## Hints"
   ]
  },
  {
   "cell_type": "code",
   "execution_count": 52,
   "metadata": {},
   "outputs": [],
   "source": [
    "# Use Splinter to navigate the sites when needed and BeautifulSoup to help find and parse out the necessary data.\n",
    "\n",
    "# Use Pymongo for CRUD applications for your database. For this homework, you can simply overwrite the existing \n",
    "# document each time the /scrape url is visited and new data is obtained.\n",
    "\n",
    "# Use Bootstrap to structure your HTML template."
   ]
  }
 ],
 "metadata": {
  "kernelspec": {
   "display_name": "Python 3",
   "language": "python",
   "name": "python3"
  },
  "language_info": {
   "codemirror_mode": {
    "name": "ipython",
    "version": 3
   },
   "file_extension": ".py",
   "mimetype": "text/x-python",
   "name": "python",
   "nbconvert_exporter": "python",
   "pygments_lexer": "ipython3",
   "version": "3.7.4"
  }
 },
 "nbformat": 4,
 "nbformat_minor": 4
}
